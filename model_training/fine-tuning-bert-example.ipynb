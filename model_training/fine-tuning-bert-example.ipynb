{
 "cells": [
  {
   "cell_type": "code",
   "execution_count": null,
   "id": "f2e1baae-7678-4419-b810-883786b99a08",
   "metadata": {},
   "outputs": [],
   "source": [
    "cd .."
   ]
  },
  {
   "cell_type": "markdown",
   "id": "5f733a52-a6cd-44ad-b038-b762b3a08bdb",
   "metadata": {},
   "source": [
    "# BERT base multilingual Fine-Tuning\n",
    "This notebook explores fine-tuning BERT base for text classification."
   ]
  },
  {
   "cell_type": "code",
   "execution_count": null,
   "id": "247af92c-1254-40be-8fb6-848450d821f5",
   "metadata": {},
   "outputs": [],
   "source": [
    "import numpy as np\n",
    "import pandas as pd\n",
    "import torch\n",
    "from transformers import (\n",
    "    AutoTokenizer,\n",
    "    AutoModelForSequenceClassification,\n",
    "    Trainer,\n",
    "    TrainingArguments,\n",
    "    DataCollatorWithPadding,\n",
    "    pipeline\n",
    ")\n",
    "from datasets import load_dataset\n",
    "from datasets import Dataset, ClassLabel, DatasetDict\n",
    "from sklearn.metrics import accuracy_score, f1_score, precision_score, recall_score, top_k_accuracy_score\n",
    "from sklearn.preprocessing import LabelEncoder\n",
    "import random\n"
   ]
  },
  {
   "cell_type": "markdown",
   "id": "09af758d-1c7d-46d2-91bf-7e0191f8ddca",
   "metadata": {},
   "source": [
    "# Configs\n",
    "Here, we can set some parameters for importing and training."
   ]
  },
  {
   "cell_type": "code",
   "execution_count": null,
   "id": "bae37359-4749-441e-90c6-945d6ef32247",
   "metadata": {},
   "outputs": [],
   "source": [
    "model_id        : str   = f'bert-base-multilingual-uncased'\n",
    "max_seq_len     : int   = 256\n",
    "\n",
    "output_dir      : str   = f'saved_models/{model_id}'\n",
    "epochs          : int   = 4\n",
    "learn_rate      : float = 5e-5\n",
    "scheduler       : str   = 'linear'\n",
    "train_bs        : int   = 16\n",
    "eval_bs         : int   = 32\n",
    "ga_steps        : int   = 2\n",
    "decay           : float = 0.01\n",
    "warmup          : float = 0.1\n",
    "# log_steps     : int   = 10\n",
    "eval_strategy   : str   = 'epoch'\n",
    "logging_strategy: str = 'epoch'\n",
    "save_strategy   : str   = 'no'\n",
    "fp16            : bool  = False\n",
    "load_best       : bool  = False\n",
    "report_to       : list  = []\n",
    "log_level       : str   = 'warning'\n",
    "\n",
    "SEED            : int   = 42\n",
    "\n",
    "device = torch.device('cuda' if torch.cuda.is_available() else 'cpu')"
   ]
  },
  {
   "cell_type": "markdown",
   "id": "2f22a526-6c1c-4705-863f-65b9b161db89",
   "metadata": {},
   "source": [
    "# Data Preprocessing\n",
    "Load the data locally and convert it into hugging face datasets format. \n",
    "The data should have a text column and a label column that comprises numerical labels."
   ]
  },
  {
   "cell_type": "code",
   "execution_count": null,
   "id": "49301db0-046f-42af-b2d6-426f33f206ab",
   "metadata": {},
   "outputs": [],
   "source": [
    "df = pd.read_csv(\n",
    "    \"data/raw/nace_train.csv\", # TODO: change to augmented dataset\n",
    "    index_col=0\n",
    ")"
   ]
  },
  {
   "cell_type": "code",
   "execution_count": null,
   "id": "44bb4c91-a93d-476b-9517-f1884d3360f3",
   "metadata": {},
   "outputs": [],
   "source": [
    "data = DatasetDict({\n",
    "    'train': Dataset.from_pandas(df)\n",
    "})"
   ]
  },
  {
   "cell_type": "code",
   "execution_count": null,
   "id": "b3891988-c059-42a1-957e-277b50f26a15",
   "metadata": {},
   "outputs": [],
   "source": [
    "data['train'][0]"
   ]
  },
  {
   "cell_type": "code",
   "execution_count": null,
   "id": "a6282b25-1e24-474a-9978-8aae7ed4ba15",
   "metadata": {},
   "outputs": [],
   "source": [
    "label_encoder = LabelEncoder()\n",
    "label_encoder.fit(data['train']['label'])\n",
    "\n",
    "# Generate mappings\n",
    "id2label = {i: str(label) for i, label in enumerate(label_encoder.classes_)}\n",
    "label2id = {label: i for i, label in id2label.items()}\n",
    "\n",
    "class_label = ClassLabel(names=label_encoder.classes_.tolist())"
   ]
  },
  {
   "cell_type": "code",
   "execution_count": null,
   "id": "a23e3d45-0201-4b6d-b797-a93d2f9015cc",
   "metadata": {},
   "outputs": [],
   "source": [
    "data = data.map(lambda x: {'label': label_encoder.transform(x['label'])}, batched=True)\n",
    "# Map your dataset to use the ClassLabel feature for stratification\n",
    "data = data.cast_column('label', class_label)"
   ]
  },
  {
   "cell_type": "code",
   "execution_count": null,
   "id": "0e812b5b-48e0-4ad2-a2d2-f45fe91f973c",
   "metadata": {},
   "outputs": [],
   "source": [
    "data = data['train'].train_test_split(test_size=0.05, seed=SEED, stratify_by_column=\"label\")\n",
    "data[\"validation\"] = data.pop(\"test\")"
   ]
  },
  {
   "cell_type": "markdown",
   "id": "19553406-e929-4246-9017-530a179cc940",
   "metadata": {},
   "source": [
    "# Load the Model\n",
    "Load the model and tokenizer from huggingface. If the model is gated or private, you need to set an environment variable called \"HF_TOKEN\" that contans your huggingface token."
   ]
  },
  {
   "cell_type": "code",
   "execution_count": null,
   "id": "fadea798-7cb1-40c8-a94e-72ef7a7c2166",
   "metadata": {},
   "outputs": [],
   "source": [
    "model = AutoModelForSequenceClassification.from_pretrained(\n",
    "    model_id,\n",
    "    num_labels=len(id2label), \n",
    "    id2label=id2label, \n",
    "    label2id=label2id,\n",
    ").to(device)\n",
    "\n",
    "tokenizer = AutoTokenizer.from_pretrained(model_id)"
   ]
  },
  {
   "cell_type": "markdown",
   "id": "052b03b9-0ec9-4e9b-bf95-ed3a369751cf",
   "metadata": {},
   "source": [
    "Now we tokenize and pad the data using the pretrained tokenizer."
   ]
  },
  {
   "cell_type": "code",
   "execution_count": null,
   "id": "54703c8b-2b8b-42cb-b3dc-4d6023b47dd3",
   "metadata": {},
   "outputs": [],
   "source": [
    "def tokenize(example):\n",
    "    return tokenizer(example[\"text\"], padding=True, truncation=True, max_length=max_seq_len)\n",
    "\n",
    "tokenized_data = data.map(\n",
    "    tokenize,\n",
    "    batched=True\n",
    ")\n",
    "     "
   ]
  },
  {
   "cell_type": "markdown",
   "id": "8395638a-9cd8-4538-92ac-815c6fe83226",
   "metadata": {},
   "source": [
    "# Training\n",
    "First, we define a function to compute the metrics that we want to monitor during training."
   ]
  },
  {
   "cell_type": "code",
   "execution_count": null,
   "id": "a0ae0d1c-c956-4b44-a377-11e2304b33c5",
   "metadata": {},
   "outputs": [],
   "source": [
    "def compute_metrics(eval_pred):\n",
    "    logits, labels = eval_pred\n",
    "    predictions = np.argmax(logits, axis=-1)\n",
    "    \n",
    "    num_classes = logits.shape[1]\n",
    "    class_labels = np.arange(num_classes)  # Ensure all classes are covered\n",
    "    \n",
    "    accuracy = accuracy_score(labels, predictions)\n",
    "    f1 = f1_score(labels, predictions, average='macro', zero_division=0)\n",
    "    precision = precision_score(labels, predictions, average='macro', zero_division=0)\n",
    "    recall = recall_score(labels, predictions, average='macro', zero_division=0)\n",
    "    top_1_acc = top_k_accuracy_score(labels, logits, k=1, labels=class_labels)\n",
    "    top_2_acc = top_k_accuracy_score(labels, logits, k=2, labels=class_labels)\n",
    "\n",
    "    return {\n",
    "        'accuracy': accuracy,\n",
    "        'f1_macro': f1,\n",
    "        'precision_macro': precision,\n",
    "        'recall_macro': recall,\n",
    "        'top_1_accuracy': top_1_acc,\n",
    "        'top_2_accuracy': top_2_acc,\n",
    "    }"
   ]
  },
  {
   "cell_type": "markdown",
   "id": "bb2e47c6-da84-45e1-a363-a474f66756f4",
   "metadata": {},
   "source": [
    "Now, we define the training arguments and the trainer class."
   ]
  },
  {
   "cell_type": "code",
   "execution_count": null,
   "id": "9a0d17b9-215b-49a8-8888-b958a6f6908e",
   "metadata": {},
   "outputs": [],
   "source": [
    "training_args = TrainingArguments(\n",
    "    output_dir=output_dir,\n",
    "    num_train_epochs=epochs,\n",
    "    learning_rate=learn_rate,\n",
    "    lr_scheduler_type=scheduler,\n",
    "    per_device_train_batch_size=train_bs,\n",
    "    per_device_eval_batch_size=eval_bs,\n",
    "    gradient_accumulation_steps=ga_steps,\n",
    "    warmup_ratio=warmup,\n",
    "    weight_decay=decay,\n",
    "    logging_dir='./logs',\n",
    "    # logging_steps=log_steps,\n",
    "    logging_strategy=logging_strategy,\n",
    "    eval_strategy=eval_strategy,\n",
    "    save_strategy=save_strategy,\n",
    "    fp16=fp16,\n",
    "    load_best_model_at_end=load_best,\n",
    "    report_to=report_to,\n",
    "    log_level=log_level,\n",
    ")\n",
    "\n",
    "data_collator = DataCollatorWithPadding(tokenizer=tokenizer)\n",
    "\n",
    "trainer = Trainer(\n",
    "    model=model,\n",
    "    args=training_args,\n",
    "    train_dataset=tokenized_data['train'],\n",
    "    eval_dataset=tokenized_data['validation'],\n",
    "    compute_metrics=compute_metrics,\n",
    "    data_collator=data_collator\n",
    ")"
   ]
  },
  {
   "cell_type": "markdown",
   "id": "0c10e4d6-5eb4-4eba-8396-4c6ea335d9ab",
   "metadata": {},
   "source": [
    "Finally, we can start training the model."
   ]
  },
  {
   "cell_type": "code",
   "execution_count": null,
   "id": "8f52b50c-79cd-4b8a-8dc1-7a50912fd00e",
   "metadata": {},
   "outputs": [],
   "source": [
    "%%time\n",
    "trainer.train()"
   ]
  },
  {
   "cell_type": "markdown",
   "id": "a7346e9a-4a64-41eb-8c00-575d4804debb",
   "metadata": {},
   "source": [
    "# Evaluation\n",
    "Now, we can evaluate the model on our test set."
   ]
  },
  {
   "cell_type": "code",
   "execution_count": null,
   "id": "620d3765-0a4b-4808-ba6a-2617cb26f4e8",
   "metadata": {},
   "outputs": [],
   "source": [
    "pipe = pipeline(\n",
    "    task='text-classification',\n",
    "    model=model, \n",
    "    tokenizer=tokenizer, \n",
    ")"
   ]
  },
  {
   "cell_type": "code",
   "execution_count": null,
   "id": "7174fc13-31d8-4783-aed9-17a04ef987b1",
   "metadata": {},
   "outputs": [],
   "source": [
    "df_test = pd.read_csv('data/raw/nace_test.csv', index_col=0)"
   ]
  },
  {
   "cell_type": "code",
   "execution_count": null,
   "id": "efaa3a09-26a9-446a-bfd4-ab7ce7fb3513",
   "metadata": {},
   "outputs": [],
   "source": [
    "df_test"
   ]
  },
  {
   "cell_type": "code",
   "execution_count": null,
   "id": "2b523dae-a479-4922-bc63-2bdca8efe4c7",
   "metadata": {},
   "outputs": [],
   "source": [
    "y_test = df_test['label'].tolist()\n",
    "X_test = df_test['text'].tolist()"
   ]
  },
  {
   "cell_type": "code",
   "execution_count": null,
   "id": "9090e2af-e962-47ef-8010-96bc8a223325",
   "metadata": {},
   "outputs": [],
   "source": [
    "%%time\n",
    "result = pipe(X_test)\n",
    "result_topk = pipe(X_test, top_k=2)"
   ]
  },
  {
   "cell_type": "code",
   "execution_count": null,
   "id": "88fd305e-d28f-4772-a723-58d27a829ef3",
   "metadata": {},
   "outputs": [],
   "source": [
    "y_pred = [_['label'] for _ in result]"
   ]
  },
  {
   "cell_type": "code",
   "execution_count": null,
   "id": "1c70ad51-89d4-4358-8a8b-1c0abd93d8bf",
   "metadata": {},
   "outputs": [],
   "source": [
    "accuracy = accuracy_score(y_test, y_pred)\n",
    "f1 = f1_score(y_test, y_pred, average='macro', zero_division=0)\n",
    "precision = precision_score(y_test, y_pred, average='macro', zero_division=0)\n",
    "recall = recall_score(y_test, y_pred, average='macro', zero_division=0)"
   ]
  },
  {
   "cell_type": "code",
   "execution_count": null,
   "id": "898974a8-da20-4fef-b2e1-d6532de4b3ff",
   "metadata": {},
   "outputs": [],
   "source": [
    "print('Performance on test set \\n')\n",
    "print(f'Accuracy score  : {accuracy:.3f}')\n",
    "print(f'F1 score        : {f1:.3f}')\n",
    "print(f'precision score : {precision:.3f}')\n",
    "print(f'recall score    : {recall:.3f}')"
   ]
  },
  {
   "cell_type": "code",
   "execution_count": null,
   "id": "f7b0dbd0-7c69-4caf-b2b7-113a0975c31a",
   "metadata": {},
   "outputs": [],
   "source": [
    "# Create probability matrix\n",
    "num_samples = len(result_topk)\n",
    "num_classes = len(label2id)\n",
    "y_pred_proba = np.zeros((num_samples, num_classes))\n",
    "\n",
    "for i, sample in enumerate(result_topk):\n",
    "    for pred in sample:\n",
    "        class_idx = label2id[pred['label']]\n",
    "        y_pred_proba[i][class_idx] = pred['score']"
   ]
  },
  {
   "cell_type": "code",
   "execution_count": null,
   "id": "bc254999-0d58-4151-a25a-017a7af0bc50",
   "metadata": {},
   "outputs": [],
   "source": [
    "top1 = top_k_accuracy_score(y_test, y_pred_proba, k=1, labels=list(label2id.keys()))\n",
    "top2 = top_k_accuracy_score(y_test, y_pred_proba, k=2, labels=list(label2id.keys()))"
   ]
  },
  {
   "cell_type": "code",
   "execution_count": null,
   "id": "81d38557-e071-4253-9886-7cb573d20dcb",
   "metadata": {},
   "outputs": [],
   "source": [
    "print(f'Top 1 accuracy  : {top1:.3f}')\n",
    "print(f'Top 2 accuracy  : {top2:.3f}')"
   ]
  },
  {
   "cell_type": "code",
   "execution_count": null,
   "id": "38b53b38-d0fb-4d88-93e6-52bfaf581ff0",
   "metadata": {},
   "outputs": [],
   "source": []
  }
 ],
 "metadata": {
  "kernelspec": {
   "display_name": "Python 3 (ipykernel)",
   "language": "python",
   "name": "python3"
  },
  "language_info": {
   "codemirror_mode": {
    "name": "ipython",
    "version": 3
   },
   "file_extension": ".py",
   "mimetype": "text/x-python",
   "name": "python",
   "nbconvert_exporter": "python",
   "pygments_lexer": "ipython3",
   "version": "3.13.5"
  }
 },
 "nbformat": 4,
 "nbformat_minor": 5
}
