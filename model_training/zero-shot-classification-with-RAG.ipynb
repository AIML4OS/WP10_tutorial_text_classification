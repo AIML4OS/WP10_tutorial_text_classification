{
 "cells": [
  {
   "cell_type": "code",
   "execution_count": 1,
   "id": "7fdc84f4-98bb-407a-933a-e02a1ced0bd5",
   "metadata": {},
   "outputs": [
    {
     "name": "stdout",
     "output_type": "stream",
     "text": [
      "/home/onyxia/work/tutorial-text-classification\n"
     ]
    }
   ],
   "source": [
    "cd .."
   ]
  },
  {
   "cell_type": "code",
   "execution_count": 2,
   "id": "a1226a8c-e6b1-4d1b-8aee-fcfdc9181890",
   "metadata": {},
   "outputs": [],
   "source": [
    "import pandas as pd"
   ]
  },
  {
   "cell_type": "code",
   "execution_count": 3,
   "id": "2a6ff668-306f-432d-b490-ef9cc56e51b7",
   "metadata": {},
   "outputs": [],
   "source": [
    "df = pd.read_csv('data/raw/nace_test.csv', index_col=0) "
   ]
  },
  {
   "cell_type": "code",
   "execution_count": 4,
   "id": "5a1386e1-c7cd-4bc6-922e-da3fdc2f257c",
   "metadata": {},
   "outputs": [
    {
     "data": {
      "text/html": [
       "<div>\n",
       "<style scoped>\n",
       "    .dataframe tbody tr th:only-of-type {\n",
       "        vertical-align: middle;\n",
       "    }\n",
       "\n",
       "    .dataframe tbody tr th {\n",
       "        vertical-align: top;\n",
       "    }\n",
       "\n",
       "    .dataframe thead th {\n",
       "        text-align: right;\n",
       "    }\n",
       "</style>\n",
       "<table border=\"1\" class=\"dataframe\">\n",
       "  <thead>\n",
       "    <tr style=\"text-align: right;\">\n",
       "      <th></th>\n",
       "      <th>text</th>\n",
       "      <th>label</th>\n",
       "    </tr>\n",
       "  </thead>\n",
       "  <tbody>\n",
       "    <tr>\n",
       "      <th>553970</th>\n",
       "      <td>L EDITION MUSICALE  LA PRODUCTION PHONOGRAPHIQ...</td>\n",
       "      <td>J</td>\n",
       "    </tr>\n",
       "    <tr>\n",
       "      <th>379876</th>\n",
       "      <td>COMMERCE DE GLACES  COMMERCE DE TOUS PRODUITS ...</td>\n",
       "      <td>I</td>\n",
       "    </tr>\n",
       "    <tr>\n",
       "      <th>642768</th>\n",
       "      <td>LACQUISITION  LADMINISTRATION ET LA GESTION PA...</td>\n",
       "      <td>L</td>\n",
       "    </tr>\n",
       "    <tr>\n",
       "      <th>598808</th>\n",
       "      <td>CREATION DE VETEMENTS ET ACCESSOIRES BEBES ENF...</td>\n",
       "      <td>C</td>\n",
       "    </tr>\n",
       "    <tr>\n",
       "      <th>805422</th>\n",
       "      <td>LOCATION D EMPLACEMENTS DE PECHE A LA JOURNEE</td>\n",
       "      <td>L</td>\n",
       "    </tr>\n",
       "    <tr>\n",
       "      <th>...</th>\n",
       "      <td>...</td>\n",
       "      <td>...</td>\n",
       "    </tr>\n",
       "    <tr>\n",
       "      <th>35224</th>\n",
       "      <td>LIVRAISON A DOMICILE   ACTIVITE SECONDAIRE DEJ...</td>\n",
       "      <td>H</td>\n",
       "    </tr>\n",
       "    <tr>\n",
       "      <th>489265</th>\n",
       "      <td>ACTIVITE DE CONCIERGERIE DE LOCATION EN FORMUL...</td>\n",
       "      <td>S</td>\n",
       "    </tr>\n",
       "    <tr>\n",
       "      <th>575488</th>\n",
       "      <td>ETUDES TECHNIQUES PHOTOVOLTAIQUES  INGENIERIE ...</td>\n",
       "      <td>M</td>\n",
       "    </tr>\n",
       "    <tr>\n",
       "      <th>2426</th>\n",
       "      <td>VENTE EN LIGNE DE PRET A PORTER ET TOUS PRODUI...</td>\n",
       "      <td>G</td>\n",
       "    </tr>\n",
       "    <tr>\n",
       "      <th>444076</th>\n",
       "      <td>SECRETARIAT INDEPENDANT  TRAVAUX ADMINISTRATIF...</td>\n",
       "      <td>N</td>\n",
       "    </tr>\n",
       "  </tbody>\n",
       "</table>\n",
       "<p>2000 rows × 2 columns</p>\n",
       "</div>"
      ],
      "text/plain": [
       "                                                     text label\n",
       "553970  L EDITION MUSICALE  LA PRODUCTION PHONOGRAPHIQ...     J\n",
       "379876  COMMERCE DE GLACES  COMMERCE DE TOUS PRODUITS ...     I\n",
       "642768  LACQUISITION  LADMINISTRATION ET LA GESTION PA...     L\n",
       "598808  CREATION DE VETEMENTS ET ACCESSOIRES BEBES ENF...     C\n",
       "805422      LOCATION D EMPLACEMENTS DE PECHE A LA JOURNEE     L\n",
       "...                                                   ...   ...\n",
       "35224   LIVRAISON A DOMICILE   ACTIVITE SECONDAIRE DEJ...     H\n",
       "489265  ACTIVITE DE CONCIERGERIE DE LOCATION EN FORMUL...     S\n",
       "575488  ETUDES TECHNIQUES PHOTOVOLTAIQUES  INGENIERIE ...     M\n",
       "2426    VENTE EN LIGNE DE PRET A PORTER ET TOUS PRODUI...     G\n",
       "444076  SECRETARIAT INDEPENDANT  TRAVAUX ADMINISTRATIF...     N\n",
       "\n",
       "[2000 rows x 2 columns]"
      ]
     },
     "execution_count": 4,
     "metadata": {},
     "output_type": "execute_result"
    }
   ],
   "source": [
    "df"
   ]
  },
  {
   "cell_type": "code",
   "execution_count": null,
   "id": "4b36a933-31a9-4fb9-bd81-dab052186825",
   "metadata": {},
   "outputs": [],
   "source": []
  }
 ],
 "metadata": {
  "kernelspec": {
   "display_name": "Python 3 (ipykernel)",
   "language": "python",
   "name": "python3"
  },
  "language_info": {
   "codemirror_mode": {
    "name": "ipython",
    "version": 3
   },
   "file_extension": ".py",
   "mimetype": "text/x-python",
   "name": "python",
   "nbconvert_exporter": "python",
   "pygments_lexer": "ipython3",
   "version": "3.13.5"
  }
 },
 "nbformat": 4,
 "nbformat_minor": 5
}
