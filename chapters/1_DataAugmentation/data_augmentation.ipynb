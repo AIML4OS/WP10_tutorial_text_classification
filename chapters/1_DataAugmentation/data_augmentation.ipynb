{
 "cells": [
  {
   "cell_type": "markdown",
   "id": "c5a7470f-ea6b-4f89-8519-7fccd14b5354",
   "metadata": {},
   "source": [
    "# LLM-based synthetic data generation\n",
    "\n",
    "The goal of this notebook is to explain how to use LLMs for synthetic data generation, especially in the context of statistical classifications. This is an important step towards training a classifier, since it helps to mitigate some problems with real-world data like scarcity, mislabelling and data gaps."
   ]
  },
  {
   "cell_type": "code",
   "execution_count": 88,
   "id": "2c70db35-5006-46be-a5ca-a770ca4fe297",
   "metadata": {},
   "outputs": [],
   "source": [
    "#!pip install openai"
   ]
  },
  {
   "cell_type": "code",
   "execution_count": 89,
   "id": "3ba9b6fb-2143-493b-a604-2c61541d0f56",
   "metadata": {},
   "outputs": [],
   "source": [
    "import pandas as pd\n",
    "import openai #for LLMs calls"
   ]
  },
  {
   "cell_type": "markdown",
   "id": "bf2ce6ba-b02f-4f4e-913f-c092b1a3afa2",
   "metadata": {},
   "source": [
    "## 1. Why do we need synthetic data?\n",
    "\n",
    "Real-world data for training classifications models have several issues:\n",
    "- Statistical classifications are very complex and have lots of nuances and caveats, so it is not always clear how to classify a given text.\n",
    "- Sometimes data is annotated by non-experts, which lead to mistakes.\n",
    "- Some texts are ambiguous, meaning that there is not enough information to reliably classify them in one class.\n",
    "- Some classes are hugely underrepresented in real-world data (by the structure of the economy), so it can be difficult to obtain enough samples for that data.\n",
    "\n",
    "Moreover, obtaining more real-world data is usually a very resource-expensive task. However, nowadays we have at our disposal the generative capabilities of LLMs, which produce text which is nearly indistinguishable from human-produced text. We can exploit this to generate as many real-looking samples as we want very quickly and in a completely automated way.\n",
    "\n",
    "Empirically it has been observed that mixing real-world data with good-quality synthetic data improves substantially the accuracy of the classification models.\n"
   ]
  },
  {
   "cell_type": "markdown",
   "id": "cfbb6434-a6f6-43de-ab3b-986c56a473dd",
   "metadata": {},
   "source": [
    "## 2. Reading the data"
   ]
  },
  {
   "cell_type": "markdown",
   "id": "89182327-9e95-460f-8d94-86c65e176cb7",
   "metadata": {},
   "source": [
    "### 2.1 Sample data\n",
    "Here we read the real-world sample data available to train the model and do some easy explanatory analysis to check class coverage."
   ]
  },
  {
   "cell_type": "code",
   "execution_count": 90,
   "id": "4d23303a-36ab-48cc-b6da-326ad4bc6c55",
   "metadata": {
    "scrolled": true
   },
   "outputs": [
    {
     "data": {
      "text/html": [
       "<div>\n",
       "<style scoped>\n",
       "    .dataframe tbody tr th:only-of-type {\n",
       "        vertical-align: middle;\n",
       "    }\n",
       "\n",
       "    .dataframe tbody tr th {\n",
       "        vertical-align: top;\n",
       "    }\n",
       "\n",
       "    .dataframe thead th {\n",
       "        text-align: right;\n",
       "    }\n",
       "</style>\n",
       "<table border=\"1\" class=\"dataframe\">\n",
       "  <thead>\n",
       "    <tr style=\"text-align: right;\">\n",
       "      <th></th>\n",
       "      <th>nace</th>\n",
       "      <th>text</th>\n",
       "    </tr>\n",
       "  </thead>\n",
       "  <tbody>\n",
       "    <tr>\n",
       "      <th>0</th>\n",
       "      <td>8220Z</td>\n",
       "      <td>MISSIONS PONCTUELLES A L AIDE D UNE PLATEFORME</td>\n",
       "    </tr>\n",
       "    <tr>\n",
       "      <th>1</th>\n",
       "      <td>8553Z</td>\n",
       "      <td>INSPECTEUR AUTOMOBILE</td>\n",
       "    </tr>\n",
       "    <tr>\n",
       "      <th>2</th>\n",
       "      <td>5520Z</td>\n",
       "      <td>LA LOCATION TOURISTIQUE DE LOGEMENTS INSOLITES...</td>\n",
       "    </tr>\n",
       "    <tr>\n",
       "      <th>3</th>\n",
       "      <td>4791A</td>\n",
       "      <td>COMMERCE DE TOUT ARTICLES ET PRODUITS MARCHAND...</td>\n",
       "    </tr>\n",
       "    <tr>\n",
       "      <th>4</th>\n",
       "      <td>9499Z</td>\n",
       "      <td>REGROUPEMENT RETRAITE</td>\n",
       "    </tr>\n",
       "  </tbody>\n",
       "</table>\n",
       "</div>"
      ],
      "text/plain": [
       "    nace                                               text\n",
       "0  8220Z     MISSIONS PONCTUELLES A L AIDE D UNE PLATEFORME\n",
       "1  8553Z                              INSPECTEUR AUTOMOBILE\n",
       "2  5520Z  LA LOCATION TOURISTIQUE DE LOGEMENTS INSOLITES...\n",
       "3  4791A  COMMERCE DE TOUT ARTICLES ET PRODUITS MARCHAND...\n",
       "4  9499Z                              REGROUPEMENT RETRAITE"
      ]
     },
     "execution_count": 90,
     "metadata": {},
     "output_type": "execute_result"
    }
   ],
   "source": [
    "df = pd.read_parquet(\n",
    "    \"https://minio.lab.sspcloud.fr/projet-formation/diffusion/mlops/data/firm_activity_data.parquet\"\n",
    ")\n",
    "df.head()"
   ]
  },
  {
   "cell_type": "code",
   "execution_count": 91,
   "id": "7baf73f3-603b-4d22-b33e-a68cd09ecc0c",
   "metadata": {},
   "outputs": [],
   "source": [
    "nace_2digit_to_section = {\n",
    "    # Section A: Agriculture, forestry and fishing\n",
    "    \"01\": \"A\", \"02\": \"A\", \"03\": \"A\",\n",
    "\n",
    "    # Section B: Mining and quarrying\n",
    "    \"05\": \"B\", \"06\": \"B\", \"07\": \"B\", \"08\": \"B\", \"09\": \"B\",\n",
    "\n",
    "    # Section C: Manufacturing\n",
    "    \"10\": \"C\", \"11\": \"C\", \"12\": \"C\", \"13\": \"C\", \"14\": \"C\",\n",
    "    \"15\": \"C\", \"16\": \"C\", \"17\": \"C\", \"18\": \"C\", \"19\": \"C\",\n",
    "    \"20\": \"C\", \"21\": \"C\", \"22\": \"C\", \"23\": \"C\", \"24\": \"C\",\n",
    "    \"25\": \"C\", \"26\": \"C\", \"27\": \"C\", \"28\": \"C\", \"29\": \"C\",\n",
    "    \"30\": \"C\", \"31\": \"C\", \"32\": \"C\", \"33\": \"C\",\n",
    "\n",
    "    # Section D: Electricity, gas, steam and air conditioning supply\n",
    "    \"35\": \"D\",\n",
    "\n",
    "    # Section E: Water supply; sewerage, waste management and remediation\n",
    "    \"36\": \"E\", \"37\": \"E\", \"38\": \"E\", \"39\": \"E\",\n",
    "\n",
    "    # Section F: Construction\n",
    "    \"41\": \"F\", \"42\": \"F\", \"43\": \"F\",\n",
    "\n",
    "    # Section G: Wholesale and retail trade\n",
    "    \"45\": \"G\", \"46\": \"G\", \"47\": \"G\",\n",
    "\n",
    "    # Section H: Transportation and storage\n",
    "    \"49\": \"H\", \"50\": \"H\", \"51\": \"H\", \"52\": \"H\", \"53\": \"H\",\n",
    "\n",
    "    # Section I: Accommodation and food service activities\n",
    "    \"55\": \"I\", \"56\": \"I\",\n",
    "\n",
    "    # Section J: Information and communication\n",
    "    \"58\": \"J\", \"59\": \"J\", \"60\": \"J\", \"61\": \"J\", \"62\": \"J\", \"63\": \"J\",\n",
    "\n",
    "    # Section K: Financial and insurance activities\n",
    "    \"64\": \"K\", \"65\": \"K\", \"66\": \"K\",\n",
    "\n",
    "    # Section L: Real estate activities\n",
    "    \"68\": \"L\",\n",
    "\n",
    "    # Section M: Professional, scientific and technical activities\n",
    "    \"69\": \"M\", \"70\": \"M\", \"71\": \"M\", \"72\": \"M\", \"73\": \"M\", \"74\": \"M\", \"75\": \"M\",\n",
    "\n",
    "    # Section N: Administrative and support service activities\n",
    "    \"77\": \"N\", \"78\": \"N\", \"79\": \"N\", \"80\": \"N\", \"81\": \"N\", \"82\": \"N\",\n",
    "\n",
    "    # Section O: Public administration and defence\n",
    "    \"84\": \"O\",\n",
    "\n",
    "    # Section P: Education\n",
    "    \"85\": \"P\",\n",
    "\n",
    "    # Section Q: Human health and social work activities\n",
    "    \"86\": \"Q\", \"87\": \"Q\", \"88\": \"Q\",\n",
    "\n",
    "    # Section R: Arts, entertainment and recreation\n",
    "    \"90\": \"R\", \"91\": \"R\", \"92\": \"R\", \"93\": \"R\",\n",
    "\n",
    "    # Section S: Other service activities\n",
    "    \"94\": \"S\", \"95\": \"S\", \"96\": \"S\",\n",
    "\n",
    "    # Section T: Activities of households as employers\n",
    "    \"97\": \"T\", \"98\": \"T\",\n",
    "\n",
    "    # Section U: Activities of extraterritorial organizations\n",
    "    \"99\": \"U\"\n",
    "}"
   ]
  },
  {
   "cell_type": "code",
   "execution_count": 92,
   "id": "7e9082ff-a1c7-49c5-a00a-1a9d32849cb0",
   "metadata": {},
   "outputs": [
    {
     "data": {
      "text/plain": [
       "label\n",
       "G    122216\n",
       "M    103344\n",
       "I     93743\n",
       "L     92525\n",
       "F     61098\n",
       "S     60125\n",
       "H     50241\n",
       "N     48516\n",
       "Q     40265\n",
       "J     32783\n",
       "C     28091\n",
       "R     26212\n",
       "K     25289\n",
       "P     25269\n",
       "A     22429\n",
       "D     12550\n",
       "E      1655\n",
       "O       161\n",
       "B       129\n",
       "U        11\n",
       "Name: count, dtype: int64"
      ]
     },
     "execution_count": 92,
     "metadata": {},
     "output_type": "execute_result"
    }
   ],
   "source": [
    "df['label'] = df['nace'].apply(lambda x: x[:2]).map(nace_2digit_to_section)\n",
    "df['label'].value_counts()"
   ]
  },
  {
   "cell_type": "markdown",
   "id": "a2485a56-a493-4501-a21c-a35fdfab1972",
   "metadata": {},
   "source": [
    "We see that some sections, particularly O, B and U have very few training samples. Moreover there are no samples for section T. We are going to generate samples for these sections. To obtain the best results, it is important to generate samples at the most disaggregated level (class) and then aggregate them to the desired level. In this way we can leverage all the information contained in the explanatory notes."
   ]
  },
  {
   "cell_type": "markdown",
   "id": "38b45f56-7e29-4df4-9071-89b7f6c91ea5",
   "metadata": {},
   "source": [
    "### 2.2 Explanatory notes\n",
    "We will use the information in the explanatory notes of the statistical classification (NACE in this case) in order to provide the necessary information to the LLM to generate new samples. Explanatory notes contain a lot of high-quality information for each class of the statistical classifcation. Typically the information provided consists of:\n",
    "- **Code of the class**\n",
    "- **Title of the class**\n",
    "- **Includes:** a description of activities included in this class.\n",
    "- **Also includes:** a description of some activities which are also included in this class.\n",
    "- **Not includes:** a description of some activities which are not included in the class, but are related to activities which are included.\n",
    "\n",
    "In order to use the information contained in the explanatory notes in an easy way it is convenient to prepare them in a machine-readable format, following the above categories. This can be done in formats like XML or JSON, or simply in an excel or csv file. In this case we have prepared an excel file with the information contained in the NAF notes. At Statistics Spain we provide an excel file with this information (https://www.ine.es/daco/daco42/clasificaciones/cnae25/notas_explicativas_CNAE_2025.xlsx)"
   ]
  },
  {
   "cell_type": "code",
   "execution_count": 95,
   "id": "1bada200-0e79-4fbb-82c5-633b1ecfb263",
   "metadata": {},
   "outputs": [
    {
     "data": {
      "text/html": [
       "<div>\n",
       "<style scoped>\n",
       "    .dataframe tbody tr th:only-of-type {\n",
       "        vertical-align: middle;\n",
       "    }\n",
       "\n",
       "    .dataframe tbody tr th {\n",
       "        vertical-align: top;\n",
       "    }\n",
       "\n",
       "    .dataframe thead th {\n",
       "        text-align: right;\n",
       "    }\n",
       "</style>\n",
       "<table border=\"1\" class=\"dataframe\">\n",
       "  <thead>\n",
       "    <tr style=\"text-align: right;\">\n",
       "      <th></th>\n",
       "      <th>Section</th>\n",
       "      <th>Code</th>\n",
       "      <th>Title</th>\n",
       "      <th>Includes</th>\n",
       "      <th>Also includes</th>\n",
       "      <th>Not includes</th>\n",
       "    </tr>\n",
       "  </thead>\n",
       "  <tbody>\n",
       "    <tr>\n",
       "      <th>0</th>\n",
       "      <td>A</td>\n",
       "      <td>01.11Y</td>\n",
       "      <td>Culture de céréales, à l'exception du riz, de...</td>\n",
       "      <td>Cette sous-classe comprend toutes les formes d...</td>\n",
       "      <td></td>\n",
       "      <td>Cette sous-classe ne comprend pas : - la cultu...</td>\n",
       "    </tr>\n",
       "    <tr>\n",
       "      <th>1</th>\n",
       "      <td>A</td>\n",
       "      <td>01.12Y</td>\n",
       "      <td>Culture du riz</td>\n",
       "      <td>Cette sous-classe comprend : - la culture du riz</td>\n",
       "      <td></td>\n",
       "      <td></td>\n",
       "    </tr>\n",
       "    <tr>\n",
       "      <th>2</th>\n",
       "      <td>A</td>\n",
       "      <td>01.13Y</td>\n",
       "      <td>Culture de légumes, de melons, de racines et ...</td>\n",
       "      <td>Cette sous-classe comprend : - la culture de l...</td>\n",
       "      <td>Cette sous-classe comprend également : - la cu...</td>\n",
       "      <td>Cette sous-classe ne comprend pas : - la cultu...</td>\n",
       "    </tr>\n",
       "    <tr>\n",
       "      <th>3</th>\n",
       "      <td>A</td>\n",
       "      <td>01.14Y</td>\n",
       "      <td>Culture de la canne à sucre</td>\n",
       "      <td></td>\n",
       "      <td></td>\n",
       "      <td>Cette sous-classe ne comprend pas : - la cultu...</td>\n",
       "    </tr>\n",
       "    <tr>\n",
       "      <th>4</th>\n",
       "      <td>A</td>\n",
       "      <td>01.15Y</td>\n",
       "      <td>Culture du tabac</td>\n",
       "      <td>Cette sous-classe comprend : - la culture de t...</td>\n",
       "      <td>Cette sous-classe comprend également : - la pr...</td>\n",
       "      <td>Cette sous-classe ne comprend pas : - la prépa...</td>\n",
       "    </tr>\n",
       "  </tbody>\n",
       "</table>\n",
       "</div>"
      ],
      "text/plain": [
       "  Section    Code                                              Title  \\\n",
       "0       A  01.11Y   Culture de céréales, à l'exception du riz, de...   \n",
       "1       A  01.12Y                                    Culture du riz    \n",
       "2       A  01.13Y   Culture de légumes, de melons, de racines et ...   \n",
       "3       A  01.14Y                       Culture de la canne à sucre    \n",
       "4       A  01.15Y                                  Culture du tabac    \n",
       "\n",
       "                                            Includes  \\\n",
       "0  Cette sous-classe comprend toutes les formes d...   \n",
       "1   Cette sous-classe comprend : - la culture du riz   \n",
       "2  Cette sous-classe comprend : - la culture de l...   \n",
       "3                                                      \n",
       "4  Cette sous-classe comprend : - la culture de t...   \n",
       "\n",
       "                                       Also includes  \\\n",
       "0                                                      \n",
       "1                                                      \n",
       "2  Cette sous-classe comprend également : - la cu...   \n",
       "3                                                      \n",
       "4  Cette sous-classe comprend également : - la pr...   \n",
       "\n",
       "                                        Not includes  \n",
       "0  Cette sous-classe ne comprend pas : - la cultu...  \n",
       "1                                                     \n",
       "2  Cette sous-classe ne comprend pas : - la cultu...  \n",
       "3  Cette sous-classe ne comprend pas : - la cultu...  \n",
       "4  Cette sous-classe ne comprend pas : - la prépa...  "
      ]
     },
     "execution_count": 95,
     "metadata": {},
     "output_type": "execute_result"
    }
   ],
   "source": [
    "NAFnotes = pd.read_excel(\"NAFclasses.xlsx\", keep_default_na=False)\n",
    "NAFnotes.head()"
   ]
  },
  {
   "cell_type": "markdown",
   "id": "9673550e-afb8-46e2-a5bf-50e57a972563",
   "metadata": {},
   "source": [
    "## 3. Generation of synthetic data\n",
    "\n",
    "Our strategy is based on the paper ZeroGen (https://arxiv.org/abs/2202.07922). The idea is simple but extremely powerful: we leverage the generative abilities of LLMs to generate plausible samples (similar to real-world samples) for generating synthetic samples from the high-quality information contained in the explanatory notes.\n",
    "\n",
    "We want to generate synthetic samples following two fundamental principles:\n",
    "- **Faithfulness:** the generated samples should be correctly coded and should be relevant to the problem at hand.\n",
    "- **Diversity:** the generated samples should display enough variety, both in style and content."
   ]
  },
  {
   "cell_type": "markdown",
   "id": "8713ba41-b9fe-45e3-9739-a9c8bc25b653",
   "metadata": {},
   "source": [
    "In this section, we will first explain how to setup an LLM API to make calls via Python, and then show how we can implement a simple data generation strategy using LLMs in an automated way. In order to generate faithful samples for each class, we need to provide the LLM with precise information, which we take from the class description in the explanatory notes. \n",
    "Even though in this tutorial we will develop classifiers at the section level, we will generate samples at the most disaggregated level. In general, even if we are interested in classifying at an aggregated level, it is useful to generate always the samples at the most disaggregated level, and later aggregate, in order to take full advantage of the explanatory notes and to get the maximum possible diversity of samples."
   ]
  },
  {
   "cell_type": "markdown",
   "id": "b1ffe789-c546-4fd0-964f-4c673b227d1d",
   "metadata": {},
   "source": [
    "### 3.1 Setting up the LLM API\n",
    "\n",
    "First, we show how to set up an LLM API. There are essentially two ways to use an LLM: locally or remotely. Both have advantages and disadvantages:\n",
    "- Local LLMs: uses an LLM which is directly run in our computer (or the organization servers). Using an LLM locally allow us to have complete control over the LLM and avoids cost and security concerns. However, our organization needs the adequate hardware (GPUs), especially for the larger models. We are limited to use only open-source models (excluding e.g. most of OpenAI models). Setting up the LLM for local use involves some extra steps before we can access it via an API. Fortunately, nowadays there is software which makes this step very easy, like Ollama or vLLM.\n",
    "- Remote LLMs: uses an LLM which runs in remote servers, typically in the premises of the provider of the model (OpenAI, Meta, Microsoft, ...). The advantages are that they are easier to set up and use, allow us to run very large models without having to care about computing resources, and allow us to run closed-source models like most of OpenAI models. The disadvantages are the costs (each API call costs a quantity of money), security concerns, and less control over the models (they can update a model or discontinue it).\n",
    "\n",
    "In this tutorial we will use for simplicity a remote provider, **Groq** (do not confuse with Grok, the family of xAI models), which has the advantage of allowing some free tokens and which is the provider we have used at Statistics Spain.\n",
    "\n",
    "Groq uses the OpenAI API to make the calls to the LLMs. Therefore, we must make sure we include the line:\n",
    "`import openai`\n",
    "in our code. The next step is to log in (or create an account) at the Groq website: https://groq.com/ , go to \"API Keys\" and click on \"Create API key\". After introducing a name the key will be created. We must copy the key and put it in a python variable:"
   ]
  },
  {
   "cell_type": "code",
   "execution_count": 96,
   "id": "6bf52cf4-5b4f-4e8a-ad28-71574931a80a",
   "metadata": {},
   "outputs": [],
   "source": [
    "API_KEY='<INSERT_YOUR_API_KEY_HERE>'"
   ]
  },
  {
   "cell_type": "markdown",
   "id": "c5c285e7-2139-4112-a2b2-4d44e3c2e7f6",
   "metadata": {},
   "source": [
    "Now to set up the client we execute the next chunk of code:"
   ]
  },
  {
   "cell_type": "code",
   "execution_count": 97,
   "id": "cfb7c499-1427-48f5-95ba-c36f953259a3",
   "metadata": {},
   "outputs": [],
   "source": [
    "# Preparing Groq API\n",
    "client = openai.OpenAI(\n",
    "    api_key=API_KEY,\n",
    "    base_url=\"https://api.groq.com/openai/v1\"\n",
    ")"
   ]
  },
  {
   "cell_type": "markdown",
   "id": "ea621cf0-1530-4a94-bc4a-48bcbd2abd4e",
   "metadata": {},
   "source": [
    "We now can use the models provided by Groq. To do it we use the next code, giving it a prompt:"
   ]
  },
  {
   "cell_type": "code",
   "execution_count": 102,
   "id": "5b2d13f9-a3d3-494a-ac6e-bed025581af0",
   "metadata": {},
   "outputs": [],
   "source": [
    "# Groq call\n",
    "response = client.responses.create(\n",
    "    model=\"llama-3.3-70b-versatile\", # model we want to use\n",
    "    input=\"Hi! How are you?\",        # prompt\n",
    ")"
   ]
  },
  {
   "cell_type": "markdown",
   "id": "f910601a-dd50-44b2-b896-c0468d4f6bd4",
   "metadata": {},
   "source": [
    "It returns us a Response object, which contains all the information of the LLM call. Here we will only be interested in the output of the model, which can be accessed as follows:"
   ]
  },
  {
   "cell_type": "code",
   "execution_count": 103,
   "id": "39c9ac3d-0948-4da3-b706-154d439a7e3c",
   "metadata": {},
   "outputs": [
    {
     "data": {
      "text/plain": [
       "\"Hello. I'm just a computer program, so I don't have feelings or emotions like humans do. However, I'm functioning properly and ready to assist you with any questions or tasks you may have. How can I help you today?\""
      ]
     },
     "execution_count": 103,
     "metadata": {},
     "output_type": "execute_result"
    }
   ],
   "source": [
    "response.output_text"
   ]
  },
  {
   "cell_type": "markdown",
   "id": "19923430-9f29-4c4f-8d5e-c47741b584e4",
   "metadata": {},
   "source": [
    "### 3.2 Data generation from the explanatory notes\n",
    "\n",
    "We use the explanatory notes of the statistical classification in order to generate new samples. Since the explanatory notes are a high-quality source, we expect that there are few mislabelled samples in the generated samples. Indeed, empirically it has been verified that the synthetic data generated in this way generally contains much less mistakes than real-world data.\n",
    "\n",
    "Our strategy for data generation will consist in constructing a generic prompt, which can be easily adapted to each class, that includes the title of the class and the relevant information from the explanatory notes, and then pass this prompt to an LLM which will generate the desired number of samples.\n",
    "\n",
    "In order to obtain the best possible results it is important to construct the prompt carefully. While this is a highly empirical task, there are some guidelines which have proven to be universally useful (see, for instance, Section 3.1 of https://arxiv.org/abs/2406.15126v1). A well-constructed prompt should consist of the following parts:\n",
    "- **Task specification:** A description of the task the LLM must fulfill. A prologue to set the scene, such as \"You are an expert in training data generation for classification models\" often improves performance.\n",
    "- **Conditions:** The conditions and instructions the LLM must follow in the generation task.\n",
    "- **In-context examples:** Examples of the expected output. This has been observed to provide a huge performance improvement. "
   ]
  },
  {
   "cell_type": "code",
   "execution_count": 104,
   "id": "28e23657-32ea-4817-971d-a53fc13da89d",
   "metadata": {},
   "outputs": [],
   "source": [
    "def generate_prompt(root, text, number):\n",
    "    prompt_process_notes = (\n",
    "                \"Vous êtes un expert en génération de données d'entraînement pour les modèles de classification. \"\n",
    "                 \"Votre tâche consiste à prendre une phrase racine d'une activité économique générale et à générer des phrases d'entraînement à partir d'exemples concrets inclus dans un texte. \"\n",
    "                 \"Le cas échéant, essayez d'introduire le mot 'autre' ou 'autre' ainsi que l'utilisation ou la destination du produit. \"\n",
    "                 \"Chaque fois qu'un objet est fabriqué, incluez le matériau à partir duquel il est fait. \"\n",
    "                 \"Évitez de produire des phrases complètement différentes ou changeant de contexte et ne retournez QUE des phrases sans introduction, commentaire, explication ou phrase supplémentaire. \"\n",
    "                 \"Évitez d'introduire vos résultats par des phrases telles que 'voici les phrases générées' ou similaires. \"\n",
    "                 \"Je veux utiliser votre résultat directement, donc je veux UNIQUEMENT les phrases. \"\n",
    "                 \"Voici un exemple : \"\n",
    "                 \"Racine : Production de produits de boulangerie et de confiserie. \"\n",
    "                 \"Texte : Cette classe comprend la fabrication de tous les produits de boulangerie tels que : pains, gâteaux, autres farines et pains destinés à l'alimentation animale. \"\n",
    "                 \"Sortie : \"\n",
    "                 \"FABRICATION DE MICHES DE PAIN. \"\n",
    "                 \"PRODUCTION DE PAIN POUR ANIMAUX. \"\n",
    "                 \"PRODUCTION DE GÂTEAUX. \"\n",
    "                 \"PRODUCTION D'AUTRES FARINES. \"\n",
    "                f\"Maintenant vous le faites avec la racine et le texte suivants, en générant {number} phrases: \"\n",
    "                f\"Racine: {root}. \"\n",
    "                f\"Texte: {text}.\"\n",
    "            )\n",
    "    return prompt_process_notes"
   ]
  },
  {
   "cell_type": "markdown",
   "id": "41366cb6-ed98-4c23-b498-150767cb4a9c",
   "metadata": {},
   "source": [
    "First we see how it works in one specific case, step by step. We will use subclass 25.11Y."
   ]
  },
  {
   "cell_type": "code",
   "execution_count": 105,
   "id": "b1f3dcce-fdaf-48fe-b2c1-76bed3798b58",
   "metadata": {},
   "outputs": [
    {
     "data": {
      "text/plain": [
       "\"Vous êtes un expert en génération de données d'entraînement pour les modèles de classification. Votre tâche consiste à prendre une phrase racine d'une activité économique générale et à générer des phrases d'entraînement à partir d'exemples concrets inclus dans un texte. Le cas échéant, essayez d'introduire le mot 'autre' ou 'autre' ainsi que l'utilisation ou la destination du produit. Chaque fois qu'un objet est fabriqué, incluez le matériau à partir duquel il est fait. Évitez de produire des phrases complètement différentes ou changeant de contexte et ne retournez QUE des phrases sans introduction, commentaire, explication ou phrase supplémentaire. Évitez d'introduire vos résultats par des phrases telles que 'voici les phrases générées' ou similaires. Je veux utiliser votre résultat directement, donc je veux UNIQUEMENT les phrases. Voici un exemple : Racine : Production de produits de boulangerie et de confiserie. Texte : Cette classe comprend la fabrication de tous les produits de boulangerie tels que : pains, gâteaux, autres farines et pains destinés à l'alimentation animale. Sortie : FABRICATION DE MICHES DE PAIN. PRODUCTION DE PAIN POUR ANIMAUX. PRODUCTION DE GÂTEAUX. PRODUCTION D'AUTRES FARINES. Maintenant vous le faites avec la racine et le texte suivants, en générant 10 phrases: Racine: Fabrication de structures métalliques et de parties de structures. Texte: Cette sous-classe comprend :\\n                            - la fabrication de cadres métalliques ou d’ossatures pour la construction et de leurs éléments \\n                            (tours, pylônes en treillis, armatures, ponts, éléments de ponts, etc.)\\n                            - la fabrication de matériel d'échafaudage, de coffrage ou d'étayage\\n                            - la fabrication de cadres métalliques pour équipements industriels (cadres pour hauts fourneaux, \\n                            matériels de manutention, etc.)\\n                            - la fabrication de constructions préfabriquées principalement en métaux :\\n                            • baraques de chantier, éléments modulaires pour expositions, etc.\\n                            .\""
      ]
     },
     "execution_count": 105,
     "metadata": {},
     "output_type": "execute_result"
    }
   ],
   "source": [
    "prompt = generate_prompt(\"Fabrication de structures métalliques et de parties de structures\", \n",
    "                         \"\"\"Cette sous-classe comprend :\n",
    "                            - la fabrication de cadres métalliques ou d’ossatures pour la construction et de leurs éléments \n",
    "                            (tours, pylônes en treillis, armatures, ponts, éléments de ponts, etc.)\n",
    "                            - la fabrication de matériel d'échafaudage, de coffrage ou d'étayage\n",
    "                            - la fabrication de cadres métalliques pour équipements industriels (cadres pour hauts fourneaux, \n",
    "                            matériels de manutention, etc.)\n",
    "                            - la fabrication de constructions préfabriquées principalement en métaux :\n",
    "                            • baraques de chantier, éléments modulaires pour expositions, etc.\n",
    "                            \"\"\", \n",
    "                         10)\n",
    "prompt"
   ]
  },
  {
   "cell_type": "code",
   "execution_count": 106,
   "id": "7c5729e9-de57-4368-a423-39aa973d216d",
   "metadata": {},
   "outputs": [],
   "source": [
    "# Groq call\n",
    "response = client.responses.create(\n",
    "    model=\"llama-3.3-70b-versatile\",\n",
    "    input=prompt,\n",
    ")"
   ]
  },
  {
   "cell_type": "code",
   "execution_count": 107,
   "id": "f5a7776d-f60a-45df-9efa-46cbc9816747",
   "metadata": {
    "scrolled": true
   },
   "outputs": [
    {
     "data": {
      "text/plain": [
       "['FABRICATION DE CADRES MÉTALLIQUES POUR CONSTRUCTION.',\n",
       " 'PRODUCTION DE PYLÔNES EN TREILLIS EN MÉTAL POUR APPUI DE STRUCTURES.',\n",
       " 'CONSTRUCTION DE PONTS MÉTALLIQUES DESTINÉS À LA CIRCULATION ROUDRIÈRE.',\n",
       " \"FABRICATION DE MATÉRIEL D'ÉCHAFAUDAGE EN MÉTAL POUR TRAVAUX DE CONSTRUCTION.\",\n",
       " 'PRODUCTION DE COFFRAGE MÉTALLIQUE POUR BÉTONNAGE.',\n",
       " 'CONSTRUCTION DE BARAQUES DE CHANTIER EN MÉTAL POUR HÉBERGEMENT DE TRAVAILLEURS.',\n",
       " 'FABRICATION DE CADRES MÉTALLIQUES POUR ÉQUIPEMENTS INDUSTRIELS TELS QUE HAUTS FOURNEAUX.',\n",
       " \"PRODUCTION D'ÉLÉMENTS MODULAIRES EN MÉTAL POUR EXPOSITIONS ET ÉVÉNEMENTS.\",\n",
       " \"FABRICATION DE STRUCTURES MÉTALLIQUES D'ÉTAYAGE POUR APPUI DE CONSTRUCTIONS.\",\n",
       " \"CONSTRUCTION DE TOURS MÉTALLIQUES DESTINÉES À D'AUTRES USAGE DANS L'INDUSTRIE.\"]"
      ]
     },
     "execution_count": 107,
     "metadata": {},
     "output_type": "execute_result"
    }
   ],
   "source": [
    "response.output_text.split('\\n')"
   ]
  },
  {
   "cell_type": "markdown",
   "id": "7fa8c79c-9e21-48a1-ae0e-5b199800c751",
   "metadata": {},
   "source": [
    "Now we can prepare, following the same steps, a general function that generates samples for a given class in an automatic fashion:"
   ]
  },
  {
   "cell_type": "code",
   "execution_count": 108,
   "id": "77ea3064-9690-4f1a-a264-382d83594bbf",
   "metadata": {},
   "outputs": [],
   "source": [
    "def generate_samples(NAFclass, num_samples, notes = NAFnotes):\n",
    "    class_notes = NAFnotes[NAFnotes['Code']== NAFclass].iloc[0]\n",
    "    # 1. Generate the prompt\n",
    "    if class_notes['Includes']:\n",
    "        prompt = generate_prompt(class_notes['Title'], class_notes['Includes'], num_samples)\n",
    "    else: # If includes section is empty\n",
    "        prompt = generate_prompt(class_notes['Title'], class_notes['Title'], num_samples)\n",
    "    \n",
    "    # 2. Generate samples by calling Groq API\n",
    "    response = client.responses.create(\n",
    "                model=\"llama-3.3-70b-versatile\",\n",
    "                input=prompt,\n",
    "                )\n",
    "    samples = response.output_text.split('\\n')\n",
    "    return pd.DataFrame({'text':samples, 'class':NAFclass})"
   ]
  },
  {
   "cell_type": "code",
   "execution_count": 111,
   "id": "bd4455eb-e805-4a46-839d-c059ff0812ee",
   "metadata": {},
   "outputs": [
    {
     "data": {
      "text/html": [
       "<div>\n",
       "<style scoped>\n",
       "    .dataframe tbody tr th:only-of-type {\n",
       "        vertical-align: middle;\n",
       "    }\n",
       "\n",
       "    .dataframe tbody tr th {\n",
       "        vertical-align: top;\n",
       "    }\n",
       "\n",
       "    .dataframe thead th {\n",
       "        text-align: right;\n",
       "    }\n",
       "</style>\n",
       "<table border=\"1\" class=\"dataframe\">\n",
       "  <thead>\n",
       "    <tr style=\"text-align: right;\">\n",
       "      <th></th>\n",
       "      <th>text</th>\n",
       "      <th>class</th>\n",
       "    </tr>\n",
       "  </thead>\n",
       "  <tbody>\n",
       "    <tr>\n",
       "      <th>0</th>\n",
       "      <td>FABRICATION DE CADRES MÉTALLIQUES POUR CONSTRU...</td>\n",
       "      <td>25.11Y</td>\n",
       "    </tr>\n",
       "    <tr>\n",
       "      <th>1</th>\n",
       "      <td>PRODUCTION DE TOURS ET PYLONES EN TREILLIS EN ...</td>\n",
       "      <td>25.11Y</td>\n",
       "    </tr>\n",
       "    <tr>\n",
       "      <th>2</th>\n",
       "      <td>CONSTRUCTION D'ARMATURES MÉTALLIQUES POUR PONT.</td>\n",
       "      <td>25.11Y</td>\n",
       "    </tr>\n",
       "    <tr>\n",
       "      <th>3</th>\n",
       "      <td>FABRICATION DE MATÉRIEL D'ÉCHAFAUDAGE EN MÉTAL.</td>\n",
       "      <td>25.11Y</td>\n",
       "    </tr>\n",
       "    <tr>\n",
       "      <th>4</th>\n",
       "      <td>PRODUCTION D'ÉLÉMENTS DE PONT EN MÉTAL.</td>\n",
       "      <td>25.11Y</td>\n",
       "    </tr>\n",
       "    <tr>\n",
       "      <th>5</th>\n",
       "      <td>FABRICATION DE CADRES MÉTALLIQUES POUR ÉQUIPEM...</td>\n",
       "      <td>25.11Y</td>\n",
       "    </tr>\n",
       "    <tr>\n",
       "      <th>6</th>\n",
       "      <td>CONSTRUCTION DE BARAQUES DE CHANTIER PRINCIPAL...</td>\n",
       "      <td>25.11Y</td>\n",
       "    </tr>\n",
       "    <tr>\n",
       "      <th>7</th>\n",
       "      <td>FABRICATION D'ÉLÉMENTS MODULAIRES POUR EXPOSIT...</td>\n",
       "      <td>25.11Y</td>\n",
       "    </tr>\n",
       "    <tr>\n",
       "      <th>8</th>\n",
       "      <td>PRODUCTION DE COFFRAGE MÉTALLIQUE POUR CONSTRU...</td>\n",
       "      <td>25.11Y</td>\n",
       "    </tr>\n",
       "    <tr>\n",
       "      <th>9</th>\n",
       "      <td>PRODUCTION D'AUTRES STRUCTURES MÉTALLIQUES POU...</td>\n",
       "      <td>25.11Y</td>\n",
       "    </tr>\n",
       "  </tbody>\n",
       "</table>\n",
       "</div>"
      ],
      "text/plain": [
       "                                                text   class\n",
       "0  FABRICATION DE CADRES MÉTALLIQUES POUR CONSTRU...  25.11Y\n",
       "1  PRODUCTION DE TOURS ET PYLONES EN TREILLIS EN ...  25.11Y\n",
       "2    CONSTRUCTION D'ARMATURES MÉTALLIQUES POUR PONT.  25.11Y\n",
       "3    FABRICATION DE MATÉRIEL D'ÉCHAFAUDAGE EN MÉTAL.  25.11Y\n",
       "4            PRODUCTION D'ÉLÉMENTS DE PONT EN MÉTAL.  25.11Y\n",
       "5  FABRICATION DE CADRES MÉTALLIQUES POUR ÉQUIPEM...  25.11Y\n",
       "6  CONSTRUCTION DE BARAQUES DE CHANTIER PRINCIPAL...  25.11Y\n",
       "7  FABRICATION D'ÉLÉMENTS MODULAIRES POUR EXPOSIT...  25.11Y\n",
       "8  PRODUCTION DE COFFRAGE MÉTALLIQUE POUR CONSTRU...  25.11Y\n",
       "9  PRODUCTION D'AUTRES STRUCTURES MÉTALLIQUES POU...  25.11Y"
      ]
     },
     "execution_count": 111,
     "metadata": {},
     "output_type": "execute_result"
    }
   ],
   "source": [
    "NAFclass = '25.11Y'\n",
    "generate_samples(NAFclass, 10, notes = NAFnotes)"
   ]
  },
  {
   "cell_type": "markdown",
   "id": "726ced85-198c-4b26-a126-d8a190c48ab6",
   "metadata": {},
   "source": [
    "Finally, we can generate a function for generating synthetic samples for a given section. The strategy is to generate some examples for each of the classes contained in the section using our previous function, and the put everything together."
   ]
  },
  {
   "cell_type": "code",
   "execution_count": 85,
   "id": "e54488f1-8500-48b2-b5a4-ba2ba2ec878b",
   "metadata": {},
   "outputs": [],
   "source": [
    "def generate_samples_section(section, num_samples, notes = NAFnotes):\n",
    "    samples_df = pd.DataFrame()\n",
    "    classes = notes[notes['Section'] == section]['Code'] # Select classes of the given section from the notes\n",
    "    num_classes = len(classes) # Number of classes in the given section\n",
    "    \n",
    "    # For each class generate samples and concatenate with the samples already generated. \n",
    "    # We generate int(num_samples/num_classes)+1 samples for each class in the section,\n",
    "    # so in total we get approx num_samples for the section.\n",
    "    for NAFclass in classes:\n",
    "        samples_df = pd.concat([samples_df, generate_samples(NAFclass, int(num_samples/num_classes)+1, notes)]) \n",
    "        \n",
    "    samples_df['label']=section # Add the section as label\n",
    "    \n",
    "    return samples_df"
   ]
  },
  {
   "cell_type": "code",
   "execution_count": 86,
   "id": "f5535b76-77d4-4e2f-8133-4dde74e39841",
   "metadata": {},
   "outputs": [],
   "source": [
    "samplesT = generate_samples_section('T', 50)"
   ]
  },
  {
   "cell_type": "code",
   "execution_count": 87,
   "id": "874d0630-169d-4a3e-aa03-abc719f8e0f8",
   "metadata": {},
   "outputs": [
    {
     "data": {
      "text/html": [
       "<div>\n",
       "<style scoped>\n",
       "    .dataframe tbody tr th:only-of-type {\n",
       "        vertical-align: middle;\n",
       "    }\n",
       "\n",
       "    .dataframe tbody tr th {\n",
       "        vertical-align: top;\n",
       "    }\n",
       "\n",
       "    .dataframe thead th {\n",
       "        text-align: right;\n",
       "    }\n",
       "</style>\n",
       "<table border=\"1\" class=\"dataframe\">\n",
       "  <thead>\n",
       "    <tr style=\"text-align: right;\">\n",
       "      <th></th>\n",
       "      <th>text</th>\n",
       "      <th>class</th>\n",
       "      <th>label</th>\n",
       "    </tr>\n",
       "  </thead>\n",
       "  <tbody>\n",
       "    <tr>\n",
       "      <th>0</th>\n",
       "      <td>EMPLOI DE PERSONNEL DE NETTOYAGE.</td>\n",
       "      <td>97.00Y</td>\n",
       "      <td>T</td>\n",
       "    </tr>\n",
       "    <tr>\n",
       "      <th>1</th>\n",
       "      <td>EMPLOI DE CUISINIÈRES.</td>\n",
       "      <td>97.00Y</td>\n",
       "      <td>T</td>\n",
       "    </tr>\n",
       "    <tr>\n",
       "      <th>2</th>\n",
       "      <td>GESTION DU PERSONNEL DE MAISON.</td>\n",
       "      <td>97.00Y</td>\n",
       "      <td>T</td>\n",
       "    </tr>\n",
       "    <tr>\n",
       "      <th>3</th>\n",
       "      <td>EMPLOI DE PERSONNEL D'ENTRETIENT DOMESTIQUE.</td>\n",
       "      <td>97.00Y</td>\n",
       "      <td>T</td>\n",
       "    </tr>\n",
       "    <tr>\n",
       "      <th>4</th>\n",
       "      <td>EMPLOI DE GARDIENNES D'ENFANTS.</td>\n",
       "      <td>97.00Y</td>\n",
       "      <td>T</td>\n",
       "    </tr>\n",
       "    <tr>\n",
       "      <th>5</th>\n",
       "      <td>EMPLOI DE PERSONNEL DE SERVICE À DOMICILE.</td>\n",
       "      <td>97.00Y</td>\n",
       "      <td>T</td>\n",
       "    </tr>\n",
       "    <tr>\n",
       "      <th>6</th>\n",
       "      <td>RECOURS À DES CUISINIERES À DOMICILE.</td>\n",
       "      <td>97.00Y</td>\n",
       "      <td>T</td>\n",
       "    </tr>\n",
       "    <tr>\n",
       "      <th>7</th>\n",
       "      <td>EMPLOI DE PERSONNEL DE MAISON POUR L'ENTRETIEN...</td>\n",
       "      <td>97.00Y</td>\n",
       "      <td>T</td>\n",
       "    </tr>\n",
       "    <tr>\n",
       "      <th>8</th>\n",
       "      <td>EMPLOI DE PERSONNEL DE NETTOYAGE À DOMICILE.</td>\n",
       "      <td>97.00Y</td>\n",
       "      <td>T</td>\n",
       "    </tr>\n",
       "    <tr>\n",
       "      <th>9</th>\n",
       "      <td>EMPLOI DE PERSONNEL DE SOUTIEN À DOMICILE POUR...</td>\n",
       "      <td>97.00Y</td>\n",
       "      <td>T</td>\n",
       "    </tr>\n",
       "    <tr>\n",
       "      <th>10</th>\n",
       "      <td>EMPLOI DE PERSONNEL DE SERVICE DOMESTIQUE POUR...</td>\n",
       "      <td>97.00Y</td>\n",
       "      <td>T</td>\n",
       "    </tr>\n",
       "    <tr>\n",
       "      <th>11</th>\n",
       "      <td>EMPLOI D'AUTRE PERSONNEL DE SERVICE À DOMICILE.</td>\n",
       "      <td>97.00Y</td>\n",
       "      <td>T</td>\n",
       "    </tr>\n",
       "    <tr>\n",
       "      <th>12</th>\n",
       "      <td>EMPLOI DE PERSONNEL DE MAISON POUR LES TÂCHES ...</td>\n",
       "      <td>97.00Y</td>\n",
       "      <td>T</td>\n",
       "    </tr>\n",
       "    <tr>\n",
       "      <th>13</th>\n",
       "      <td>EMPLOI DE PERSONNEL DE NETTOYAGE POUR LES BURE...</td>\n",
       "      <td>97.00Y</td>\n",
       "      <td>T</td>\n",
       "    </tr>\n",
       "    <tr>\n",
       "      <th>14</th>\n",
       "      <td>GESTION DU PERSONNEL DOMESTIQUE POUR LES FAMIL...</td>\n",
       "      <td>97.00Y</td>\n",
       "      <td>T</td>\n",
       "    </tr>\n",
       "    <tr>\n",
       "      <th>15</th>\n",
       "      <td>EMPLOI DE PERSONNEL DE SERVICE DOMESTIQUE POUR...</td>\n",
       "      <td>97.00Y</td>\n",
       "      <td>T</td>\n",
       "    </tr>\n",
       "    <tr>\n",
       "      <th>0</th>\n",
       "      <td>PRODUCTION DE NOURRITURE PAR CHASSE.</td>\n",
       "      <td>98.10Y</td>\n",
       "      <td>T</td>\n",
       "    </tr>\n",
       "    <tr>\n",
       "      <th>1</th>\n",
       "      <td>CULTURE DE LÉGUMES POUR USAGE PROPRE.</td>\n",
       "      <td>98.10Y</td>\n",
       "      <td>T</td>\n",
       "    </tr>\n",
       "    <tr>\n",
       "      <th>2</th>\n",
       "      <td>ÉLEVAGE DE POULETS POUR PRODUCTION DE VIANDE.</td>\n",
       "      <td>98.10Y</td>\n",
       "      <td>T</td>\n",
       "    </tr>\n",
       "    <tr>\n",
       "      <th>3</th>\n",
       "      <td>FABRICATION D'ABRIS EN BOIS POUR USAGE PROPRE.</td>\n",
       "      <td>98.10Y</td>\n",
       "      <td>T</td>\n",
       "    </tr>\n",
       "    <tr>\n",
       "      <th>4</th>\n",
       "      <td>CONFECTION DE VÊTEMENTS EN COTON POUR USAGE FA...</td>\n",
       "      <td>98.10Y</td>\n",
       "      <td>T</td>\n",
       "    </tr>\n",
       "    <tr>\n",
       "      <th>5</th>\n",
       "      <td>CUEILLETTE DE FRUITS SAUVAGES POUR CONSOMMATIO...</td>\n",
       "      <td>98.10Y</td>\n",
       "      <td>T</td>\n",
       "    </tr>\n",
       "    <tr>\n",
       "      <th>6</th>\n",
       "      <td>PRODUCTION DE LAIT CRU À PARTIR D'ÉLEVAGE DE V...</td>\n",
       "      <td>98.10Y</td>\n",
       "      <td>T</td>\n",
       "    </tr>\n",
       "    <tr>\n",
       "      <th>7</th>\n",
       "      <td>CULTURE DE CÉRÉALES POUR PRODUCTION DE FARINE.</td>\n",
       "      <td>98.10Y</td>\n",
       "      <td>T</td>\n",
       "    </tr>\n",
       "    <tr>\n",
       "      <th>8</th>\n",
       "      <td>ÉLEVAGE DE LAPINS POUR PRODUCTION DE FOURRURE.</td>\n",
       "      <td>98.10Y</td>\n",
       "      <td>T</td>\n",
       "    </tr>\n",
       "    <tr>\n",
       "      <th>9</th>\n",
       "      <td>FABRICATION D'OBJETS EN OSIER POUR USAGE MÉNAG...</td>\n",
       "      <td>98.10Y</td>\n",
       "      <td>T</td>\n",
       "    </tr>\n",
       "    <tr>\n",
       "      <th>10</th>\n",
       "      <td>PRODUCTION DE MIEL À PARTIR D'ÉLEVAGE D'ABEILL...</td>\n",
       "      <td>98.10Y</td>\n",
       "      <td>T</td>\n",
       "    </tr>\n",
       "    <tr>\n",
       "      <th>11</th>\n",
       "      <td>CULTURE DE PLANTES MÉDICINALES POUR USAGE PROP...</td>\n",
       "      <td>98.10Y</td>\n",
       "      <td>T</td>\n",
       "    </tr>\n",
       "    <tr>\n",
       "      <th>12</th>\n",
       "      <td>CONFECTION DE MEUBLES EN BOIS POUR USAGE DOMES...</td>\n",
       "      <td>98.10Y</td>\n",
       "      <td>T</td>\n",
       "    </tr>\n",
       "    <tr>\n",
       "      <th>13</th>\n",
       "      <td>FABRICATION D'AUTRES PRODUITS ARTISANAUX POUR ...</td>\n",
       "      <td>98.10Y</td>\n",
       "      <td>T</td>\n",
       "    </tr>\n",
       "    <tr>\n",
       "      <th>14</th>\n",
       "      <td>CULTURE DE FLEURS ORNEMENTALES POUR DÉCORATION...</td>\n",
       "      <td>98.10Y</td>\n",
       "      <td>T</td>\n",
       "    </tr>\n",
       "    <tr>\n",
       "      <th>15</th>\n",
       "      <td>ÉLEVAGE DE POISONS POUR PRODUCTION DE POISSON ...</td>\n",
       "      <td>98.10Y</td>\n",
       "      <td>T</td>\n",
       "    </tr>\n",
       "    <tr>\n",
       "      <th>16</th>\n",
       "      <td>FABRICATION DE TISSUS EN LIN POUR CONFECTION D...</td>\n",
       "      <td>98.10Y</td>\n",
       "      <td>T</td>\n",
       "    </tr>\n",
       "    <tr>\n",
       "      <th>0</th>\n",
       "      <td>PRODUCTION DE SERVICES DE SUBSISTANCE POUR USA...</td>\n",
       "      <td>98.20Y</td>\n",
       "      <td>T</td>\n",
       "    </tr>\n",
       "    <tr>\n",
       "      <th>1</th>\n",
       "      <td>PRODUCTION DE SERVICES DE CUISINE POUR SUBSIST...</td>\n",
       "      <td>98.20Y</td>\n",
       "      <td>T</td>\n",
       "    </tr>\n",
       "    <tr>\n",
       "      <th>2</th>\n",
       "      <td>PRODUCTION DE SERVICES D'ENSEIGNEMENT POUR MEM...</td>\n",
       "      <td>98.20Y</td>\n",
       "      <td>T</td>\n",
       "    </tr>\n",
       "    <tr>\n",
       "      <th>3</th>\n",
       "      <td>PRESTATION DE SOINS AUX MEMBRES DU MÉNAGE.</td>\n",
       "      <td>98.20Y</td>\n",
       "      <td>T</td>\n",
       "    </tr>\n",
       "    <tr>\n",
       "      <th>4</th>\n",
       "      <td>PRODUCTION D'AUTRES SERVICES POUR SUBSISTANCE ...</td>\n",
       "      <td>98.20Y</td>\n",
       "      <td>T</td>\n",
       "    </tr>\n",
       "    <tr>\n",
       "      <th>5</th>\n",
       "      <td>PRODUCTION DE SERVICES DE SUBSISTANCE POUR MEM...</td>\n",
       "      <td>98.20Y</td>\n",
       "      <td>T</td>\n",
       "    </tr>\n",
       "    <tr>\n",
       "      <th>6</th>\n",
       "      <td>ACTIVITÉS DE PRODUCTION DE SERVICES DE SUBSIST...</td>\n",
       "      <td>98.20Y</td>\n",
       "      <td>T</td>\n",
       "    </tr>\n",
       "    <tr>\n",
       "      <th>7</th>\n",
       "      <td>PRODUCTION DE SERVICES POUR SUBSISTANCE DES ME...</td>\n",
       "      <td>98.20Y</td>\n",
       "      <td>T</td>\n",
       "    </tr>\n",
       "    <tr>\n",
       "      <th>8</th>\n",
       "      <td>PRODUCTION DE SERVICES DE CUISINE POUR MEMBRES...</td>\n",
       "      <td>98.20Y</td>\n",
       "      <td>T</td>\n",
       "    </tr>\n",
       "    <tr>\n",
       "      <th>9</th>\n",
       "      <td>PRODUCTION D'AUTRES SERVICES DE SUBSISTANCE PO...</td>\n",
       "      <td>98.20Y</td>\n",
       "      <td>T</td>\n",
       "    </tr>\n",
       "    <tr>\n",
       "      <th>10</th>\n",
       "      <td>PRODUCTION DE SERVICES D'ENSEIGNEMENT POUR SUB...</td>\n",
       "      <td>98.20Y</td>\n",
       "      <td>T</td>\n",
       "    </tr>\n",
       "    <tr>\n",
       "      <th>11</th>\n",
       "      <td>PRESTATION DE SOINS POUR MEMBRES DU MÉNAGE EN ...</td>\n",
       "      <td>98.20Y</td>\n",
       "      <td>T</td>\n",
       "    </tr>\n",
       "    <tr>\n",
       "      <th>12</th>\n",
       "      <td>PRODUCTION DE SERVICES POUR SUBSISTANCE PROPRE...</td>\n",
       "      <td>98.20Y</td>\n",
       "      <td>T</td>\n",
       "    </tr>\n",
       "    <tr>\n",
       "      <th>13</th>\n",
       "      <td>PRODUCTION DE SERVICES DE SUBSISTANCE POUR L'U...</td>\n",
       "      <td>98.20Y</td>\n",
       "      <td>T</td>\n",
       "    </tr>\n",
       "    <tr>\n",
       "      <th>14</th>\n",
       "      <td>ACTIVITÉS DE PRODUCTION DE SERVICES POUR SUBSI...</td>\n",
       "      <td>98.20Y</td>\n",
       "      <td>T</td>\n",
       "    </tr>\n",
       "    <tr>\n",
       "      <th>15</th>\n",
       "      <td>PRODUCTION D'AUTRES SERVICES DE SUBSISTANCE PO...</td>\n",
       "      <td>98.20Y</td>\n",
       "      <td>T</td>\n",
       "    </tr>\n",
       "    <tr>\n",
       "      <th>16</th>\n",
       "      <td>PRODUCTION DE SERVICES DE SUBSISTANCE POUR L'U...</td>\n",
       "      <td>98.20Y</td>\n",
       "      <td>T</td>\n",
       "    </tr>\n",
       "  </tbody>\n",
       "</table>\n",
       "</div>"
      ],
      "text/plain": [
       "                                                 text   class label\n",
       "0                  EMPLOI DE PERSONNEL DE NETTOYAGE.   97.00Y     T\n",
       "1                             EMPLOI DE CUISINIÈRES.   97.00Y     T\n",
       "2                    GESTION DU PERSONNEL DE MAISON.   97.00Y     T\n",
       "3       EMPLOI DE PERSONNEL D'ENTRETIENT DOMESTIQUE.   97.00Y     T\n",
       "4                    EMPLOI DE GARDIENNES D'ENFANTS.   97.00Y     T\n",
       "5         EMPLOI DE PERSONNEL DE SERVICE À DOMICILE.   97.00Y     T\n",
       "6              RECOURS À DES CUISINIERES À DOMICILE.   97.00Y     T\n",
       "7   EMPLOI DE PERSONNEL DE MAISON POUR L'ENTRETIEN...  97.00Y     T\n",
       "8       EMPLOI DE PERSONNEL DE NETTOYAGE À DOMICILE.   97.00Y     T\n",
       "9   EMPLOI DE PERSONNEL DE SOUTIEN À DOMICILE POUR...  97.00Y     T\n",
       "10  EMPLOI DE PERSONNEL DE SERVICE DOMESTIQUE POUR...  97.00Y     T\n",
       "11   EMPLOI D'AUTRE PERSONNEL DE SERVICE À DOMICILE.   97.00Y     T\n",
       "12  EMPLOI DE PERSONNEL DE MAISON POUR LES TÂCHES ...  97.00Y     T\n",
       "13  EMPLOI DE PERSONNEL DE NETTOYAGE POUR LES BURE...  97.00Y     T\n",
       "14  GESTION DU PERSONNEL DOMESTIQUE POUR LES FAMIL...  97.00Y     T\n",
       "15  EMPLOI DE PERSONNEL DE SERVICE DOMESTIQUE POUR...  97.00Y     T\n",
       "0               PRODUCTION DE NOURRITURE PAR CHASSE.   98.10Y     T\n",
       "1              CULTURE DE LÉGUMES POUR USAGE PROPRE.   98.10Y     T\n",
       "2      ÉLEVAGE DE POULETS POUR PRODUCTION DE VIANDE.   98.10Y     T\n",
       "3     FABRICATION D'ABRIS EN BOIS POUR USAGE PROPRE.   98.10Y     T\n",
       "4   CONFECTION DE VÊTEMENTS EN COTON POUR USAGE FA...  98.10Y     T\n",
       "5   CUEILLETTE DE FRUITS SAUVAGES POUR CONSOMMATIO...  98.10Y     T\n",
       "6   PRODUCTION DE LAIT CRU À PARTIR D'ÉLEVAGE DE V...  98.10Y     T\n",
       "7     CULTURE DE CÉRÉALES POUR PRODUCTION DE FARINE.   98.10Y     T\n",
       "8     ÉLEVAGE DE LAPINS POUR PRODUCTION DE FOURRURE.   98.10Y     T\n",
       "9   FABRICATION D'OBJETS EN OSIER POUR USAGE MÉNAG...  98.10Y     T\n",
       "10  PRODUCTION DE MIEL À PARTIR D'ÉLEVAGE D'ABEILL...  98.10Y     T\n",
       "11  CULTURE DE PLANTES MÉDICINALES POUR USAGE PROP...  98.10Y     T\n",
       "12  CONFECTION DE MEUBLES EN BOIS POUR USAGE DOMES...  98.10Y     T\n",
       "13  FABRICATION D'AUTRES PRODUITS ARTISANAUX POUR ...  98.10Y     T\n",
       "14  CULTURE DE FLEURS ORNEMENTALES POUR DÉCORATION...  98.10Y     T\n",
       "15  ÉLEVAGE DE POISONS POUR PRODUCTION DE POISSON ...  98.10Y     T\n",
       "16  FABRICATION DE TISSUS EN LIN POUR CONFECTION D...  98.10Y     T\n",
       "0   PRODUCTION DE SERVICES DE SUBSISTANCE POUR USA...  98.20Y     T\n",
       "1   PRODUCTION DE SERVICES DE CUISINE POUR SUBSIST...  98.20Y     T\n",
       "2   PRODUCTION DE SERVICES D'ENSEIGNEMENT POUR MEM...  98.20Y     T\n",
       "3          PRESTATION DE SOINS AUX MEMBRES DU MÉNAGE.  98.20Y     T\n",
       "4   PRODUCTION D'AUTRES SERVICES POUR SUBSISTANCE ...  98.20Y     T\n",
       "5   PRODUCTION DE SERVICES DE SUBSISTANCE POUR MEM...  98.20Y     T\n",
       "6   ACTIVITÉS DE PRODUCTION DE SERVICES DE SUBSIST...  98.20Y     T\n",
       "7   PRODUCTION DE SERVICES POUR SUBSISTANCE DES ME...  98.20Y     T\n",
       "8   PRODUCTION DE SERVICES DE CUISINE POUR MEMBRES...  98.20Y     T\n",
       "9   PRODUCTION D'AUTRES SERVICES DE SUBSISTANCE PO...  98.20Y     T\n",
       "10  PRODUCTION DE SERVICES D'ENSEIGNEMENT POUR SUB...  98.20Y     T\n",
       "11  PRESTATION DE SOINS POUR MEMBRES DU MÉNAGE EN ...  98.20Y     T\n",
       "12  PRODUCTION DE SERVICES POUR SUBSISTANCE PROPRE...  98.20Y     T\n",
       "13  PRODUCTION DE SERVICES DE SUBSISTANCE POUR L'U...  98.20Y     T\n",
       "14  ACTIVITÉS DE PRODUCTION DE SERVICES POUR SUBSI...  98.20Y     T\n",
       "15  PRODUCTION D'AUTRES SERVICES DE SUBSISTANCE PO...  98.20Y     T\n",
       "16  PRODUCTION DE SERVICES DE SUBSISTANCE POUR L'U...  98.20Y     T"
      ]
     },
     "execution_count": 87,
     "metadata": {},
     "output_type": "execute_result"
    }
   ],
   "source": [
    "samplesT"
   ]
  },
  {
   "cell_type": "code",
   "execution_count": 59,
   "id": "494c94bc-8e18-4f34-86d1-623280e549a6",
   "metadata": {
    "scrolled": true
   },
   "outputs": [],
   "source": [
    "synthetic_df = pd.concat([generate_samples_section(section, 200) for section in ['O','B','U','T']])"
   ]
  },
  {
   "cell_type": "code",
   "execution_count": 60,
   "id": "e7c21dc3-0e66-4b48-89d3-d690952fd1ec",
   "metadata": {},
   "outputs": [
    {
     "data": {
      "text/html": [
       "<div>\n",
       "<style scoped>\n",
       "    .dataframe tbody tr th:only-of-type {\n",
       "        vertical-align: middle;\n",
       "    }\n",
       "\n",
       "    .dataframe tbody tr th {\n",
       "        vertical-align: top;\n",
       "    }\n",
       "\n",
       "    .dataframe thead th {\n",
       "        text-align: right;\n",
       "    }\n",
       "</style>\n",
       "<table border=\"1\" class=\"dataframe\">\n",
       "  <thead>\n",
       "    <tr style=\"text-align: right;\">\n",
       "      <th></th>\n",
       "      <th>text</th>\n",
       "      <th>class</th>\n",
       "      <th>label</th>\n",
       "    </tr>\n",
       "  </thead>\n",
       "  <tbody>\n",
       "    <tr>\n",
       "      <th>0</th>\n",
       "      <td>ADMINISTRATION DE L'EXÉCUTIF CENTRAL.</td>\n",
       "      <td>84.11Y</td>\n",
       "      <td>O</td>\n",
       "    </tr>\n",
       "    <tr>\n",
       "      <th>1</th>\n",
       "      <td>ADMINISTRATION DE L'EXÉCUTIF RÉGIONAL.</td>\n",
       "      <td>84.11Y</td>\n",
       "      <td>O</td>\n",
       "    </tr>\n",
       "    <tr>\n",
       "      <th>2</th>\n",
       "      <td>ADMINISTRATION DE L'EXÉCUTIF LOCAL.</td>\n",
       "      <td>84.11Y</td>\n",
       "      <td>O</td>\n",
       "    </tr>\n",
       "    <tr>\n",
       "      <th>3</th>\n",
       "      <td>ACTIVITÉS DES MINISTÈRES AU NIVEAU NATIONAL.</td>\n",
       "      <td>84.11Y</td>\n",
       "      <td>O</td>\n",
       "    </tr>\n",
       "    <tr>\n",
       "      <th>4</th>\n",
       "      <td>ACTIVITÉS DES MINISTÈRES AU NIVEAU RÉGIONAL.</td>\n",
       "      <td>84.11Y</td>\n",
       "      <td>O</td>\n",
       "    </tr>\n",
       "    <tr>\n",
       "      <th>...</th>\n",
       "      <td>...</td>\n",
       "      <td>...</td>\n",
       "      <td>...</td>\n",
       "    </tr>\n",
       "    <tr>\n",
       "      <th>50</th>\n",
       "      <td>PRODUCTION DE PRODUITS DE COMMUNICATION POUR L...</td>\n",
       "      <td>98.20Y</td>\n",
       "      <td>T</td>\n",
       "    </tr>\n",
       "    <tr>\n",
       "      <th>51</th>\n",
       "      <td>PRODUCTION DE PRODUITS INFORMATIQUES POUR LE M...</td>\n",
       "      <td>98.20Y</td>\n",
       "      <td>T</td>\n",
       "    </tr>\n",
       "    <tr>\n",
       "      <th>52</th>\n",
       "      <td>PRODUCTION DE PRODUITS DE RÉSEAUX POUR LA MAISON.</td>\n",
       "      <td>98.20Y</td>\n",
       "      <td>T</td>\n",
       "    </tr>\n",
       "    <tr>\n",
       "      <th>53</th>\n",
       "      <td>PRODUCTION DE PRODUITS POUR LA SÉCURITÉ INFORM...</td>\n",
       "      <td>98.20Y</td>\n",
       "      <td>T</td>\n",
       "    </tr>\n",
       "    <tr>\n",
       "      <th>54</th>\n",
       "      <td>PRODUCTION D'AUTRES PRODUITS POUR LE MÉNAGE.</td>\n",
       "      <td>98.20Y</td>\n",
       "      <td>T</td>\n",
       "    </tr>\n",
       "  </tbody>\n",
       "</table>\n",
       "<p>798 rows × 3 columns</p>\n",
       "</div>"
      ],
      "text/plain": [
       "                                                 text   class label\n",
       "0               ADMINISTRATION DE L'EXÉCUTIF CENTRAL.  84.11Y     O\n",
       "1              ADMINISTRATION DE L'EXÉCUTIF RÉGIONAL.  84.11Y     O\n",
       "2                 ADMINISTRATION DE L'EXÉCUTIF LOCAL.  84.11Y     O\n",
       "3        ACTIVITÉS DES MINISTÈRES AU NIVEAU NATIONAL.  84.11Y     O\n",
       "4        ACTIVITÉS DES MINISTÈRES AU NIVEAU RÉGIONAL.  84.11Y     O\n",
       "..                                                ...     ...   ...\n",
       "50  PRODUCTION DE PRODUITS DE COMMUNICATION POUR L...  98.20Y     T\n",
       "51  PRODUCTION DE PRODUITS INFORMATIQUES POUR LE M...  98.20Y     T\n",
       "52  PRODUCTION DE PRODUITS DE RÉSEAUX POUR LA MAISON.  98.20Y     T\n",
       "53  PRODUCTION DE PRODUITS POUR LA SÉCURITÉ INFORM...  98.20Y     T\n",
       "54       PRODUCTION D'AUTRES PRODUITS POUR LE MÉNAGE.  98.20Y     T\n",
       "\n",
       "[798 rows x 3 columns]"
      ]
     },
     "execution_count": 60,
     "metadata": {},
     "output_type": "execute_result"
    }
   ],
   "source": [
    "synthetic_df"
   ]
  },
  {
   "cell_type": "code",
   "execution_count": 65,
   "id": "90eae9ac-463e-4e6c-bc8c-1bfb1852d0fa",
   "metadata": {},
   "outputs": [],
   "source": [
    "synthetic_df = synthetic_df.drop(columns=['class'])"
   ]
  },
  {
   "cell_type": "code",
   "execution_count": 66,
   "id": "3b53cca7-a61a-4460-8706-e51e4dd126d1",
   "metadata": {},
   "outputs": [],
   "source": [
    "synthetic_df.to_csv(\"synthetic_df.csv\", index=False)"
   ]
  },
  {
   "cell_type": "markdown",
   "id": "60e40f00-0053-48bf-9ad5-ca2d57090c29",
   "metadata": {},
   "source": [
    "This strategy consists of taking the titles of the classes of the explanatory notes, remove the stopwords to get the keywords, use an LLM to generate variations or synonims of these keywords, and then obtain new samples by replacing one (or more) keywords by some of their synonims."
   ]
  },
  {
   "cell_type": "code",
   "execution_count": 202,
   "id": "8dcfdb3b-1976-469e-88e1-7c11f5924eb4",
   "metadata": {},
   "outputs": [],
   "source": [
    "def tokenizer(text):\n",
    "        words = word_tokenize(text)\n",
    "        stop_words = set(stopwords.words('french'))\n",
    "        stop_words.update(punctuation)\n",
    "        words_list = [word for word in words if word not in stop_words]\n",
    "        return list(set(words_list))"
   ]
  },
  {
   "cell_type": "code",
   "execution_count": 203,
   "id": "0aad4b84-5c9a-4226-ac1e-fa6d596587be",
   "metadata": {},
   "outputs": [],
   "source": [
    "def generate_prompt_dict(root, text):\n",
    "    prompt_make_dict = (\n",
    "        \"Je crée des phrases d'entraînement pour entraîner de manière supervisée un modèle de classification \"\n",
    "        \"des activités économiques sur la base d'un standard. \"\n",
    "        \"Je dispose d'un titre de classe et d'une description de chaque classe possible du standard. \"\n",
    "        \"J'ai besoin que tu me génères un dictionnaire de synonymes afin de constituer un jeu d'entraînement pour cette classe. \"\n",
    "        \"Une liste de mots et la description de la classe te seront fournies. \"\n",
    "        \"Je veux que tu me renvoies tous les exemples concrets ou synonymes des mots inclus dans la liste qui NE figurent PAS dans le texte. \"\n",
    "        \"De plus, ces exemples doivent avoir du sens dans le contexte de la classe afin de ne pas générer de bruit dans le modèle. \"\n",
    "        \"Si tu ne trouves aucun mot pour lequel tu peux donner des exemples, renvoie uniquement le mot NADA. \"\n",
    "        \"NE fais dans ta sortie aucune introduction comme 'voici les synonymes générés' ou similaires. \"\n",
    "        \"Je veux utiliser directement ta sortie, donc je veux UNIQUEMENT les réponses sous forme de dictionnaire en format Python. \"\n",
    "        \"Voici un exemple : \"\n",
    "        \"Liste de mots : [Élaboration, conserves, poissons]. \"\n",
    "        \"Texte : Cette classe comprend l’élaboration de conserves de poisson comme : melva, saumon ou sardine. \"\n",
    "        \"Sortie : \"\n",
    "        \"{'poissons': ['thon', 'maquereau', 'espadon', 'anchois'], \"\n",
    "        \"'élaboration': ['fabrication', 'manufacture', 'production']} \"\n",
    "        \"Maintenant, fais-le toi-même. \"\n",
    "        f\"Liste de mots : {root}. \"\n",
    "        f\"Texte : {text}\"\n",
    "    )\n",
    "    return prompt_make_dict"
   ]
  },
  {
   "cell_type": "code",
   "execution_count": 204,
   "id": "1b1b1353-64b0-4b29-8d11-4fdc7cc4868e",
   "metadata": {},
   "outputs": [],
   "source": [
    "def generate_simple_sentences(text, word_dict, key_list):\n",
    "        final_list = [text]\n",
    "        for key in key_list:\n",
    "            text_list = [text.replace(key, word) for word in word_dict[key]]\n",
    "            final_list.extend(text_list)\n",
    "        return final_list"
   ]
  },
  {
   "cell_type": "code",
   "execution_count": 208,
   "id": "57a7e0a7-a6f9-4a6c-aedd-3649b9934d07",
   "metadata": {},
   "outputs": [],
   "source": [
    "root = \"Extraction de gaz naturel\"\n",
    "text = \"\"\"Cette sous-classe comprend :\n",
    "        - la production d’hydrocarbures gazeux bruts (gaz naturel)\n",
    "        - l’extraction de condensats\n",
    "        - la décantation et la séparation de fractions d’hydrocarbures liquides\n",
    "        - la désulfuration du gaz\n",
    "        - l’extraction de méthane provenant des mines de charbon\n",
    "        \"\"\""
   ]
  },
  {
   "cell_type": "code",
   "execution_count": 210,
   "id": "b852dba7-d4b1-4495-939c-b2855ca17b0a",
   "metadata": {},
   "outputs": [
    {
     "data": {
      "text/plain": [
       "['naturel', 'gaz', 'Extraction']"
      ]
     },
     "execution_count": 210,
     "metadata": {},
     "output_type": "execute_result"
    }
   ],
   "source": [
    "key_list = tokenizer(root)\n",
    "key_list"
   ]
  },
  {
   "cell_type": "code",
   "execution_count": 214,
   "id": "5da13205-5a5e-43fc-9346-ac59e38f83f1",
   "metadata": {},
   "outputs": [
    {
     "data": {
      "text/plain": [
       "\"Je crée des phrases d'entraînement pour entraîner de manière supervisée un modèle de classification des activités économiques sur la base d'un standard. Je dispose d'un titre de classe et d'une description de chaque classe possible du standard. J'ai besoin que tu me génères un dictionnaire de synonymes afin de constituer un jeu d'entraînement pour cette classe. Une liste de mots et la description de la classe te seront fournies. Je veux que tu me renvoies tous les exemples concrets ou synonymes des mots inclus dans la liste qui NE figurent PAS dans le texte. De plus, ces exemples doivent avoir du sens dans le contexte de la classe afin de ne pas générer de bruit dans le modèle. Si tu ne trouves aucun mot pour lequel tu peux donner des exemples, renvoie uniquement le mot NADA. NE fais dans ta sortie aucune introduction comme 'voici les synonymes générés' ou similaires. Je veux utiliser directement ta sortie, donc je veux UNIQUEMENT les réponses sous forme de dictionnaire en format Python. Voici un exemple : Liste de mots : [Élaboration, conserves, poissons]. Texte : Cette classe comprend l’élaboration de conserves de poisson comme : melva, saumon ou sardine. Sortie : {'poissons': ['thon', 'maquereau', 'espadon', 'anchois'], 'élaboration': ['fabrication', 'manufacture', 'production']} Maintenant, fais-le toi-même. Liste de mots : ['naturel', 'gaz', 'Extraction']. Texte : Cette sous-classe comprend :\\n        - la production d’hydrocarbures gazeux bruts (gaz naturel)\\n        - l’extraction de condensats\\n        - la décantation et la séparation de fractions d’hydrocarbures liquides\\n        - la désulfuration du gaz\\n        - l’extraction de méthane provenant des mines de charbon\\n        \""
      ]
     },
     "execution_count": 214,
     "metadata": {},
     "output_type": "execute_result"
    }
   ],
   "source": [
    "prompt = generate_prompt_dict(key_list, text)\n",
    "prompt"
   ]
  },
  {
   "cell_type": "code",
   "execution_count": 215,
   "id": "3170e607-032e-49dc-98a2-f9d1e7c1dbad",
   "metadata": {},
   "outputs": [],
   "source": [
    "# Groq call\n",
    "response = client.responses.create(\n",
    "    model=\"llama-3.3-70b-versatile\",\n",
    "    input=prompt,\n",
    ")"
   ]
  },
  {
   "cell_type": "code",
   "execution_count": 216,
   "id": "ff4bb23e-7981-4448-8860-41053afda0f4",
   "metadata": {},
   "outputs": [
    {
     "data": {
      "text/plain": [
       "{'naturel': ['biologique', 'organique', 'écologique'],\n",
       " 'gaz': ['méthane', 'butane', 'propane', 'éthane'],\n",
       " 'Extraction': ['récupération', 'exploitation', 'production', 'capture']}"
      ]
     },
     "execution_count": 216,
     "metadata": {},
     "output_type": "execute_result"
    }
   ],
   "source": [
    "word_dict = eval(response.output_text)\n",
    "word_dict"
   ]
  },
  {
   "cell_type": "code",
   "execution_count": 217,
   "id": "53601bbf-c112-4f1c-a361-8d0099fdad83",
   "metadata": {},
   "outputs": [
    {
     "data": {
      "text/plain": [
       "['Extraction de gaz naturel',\n",
       " 'Extraction de gaz biologique',\n",
       " 'Extraction de gaz organique',\n",
       " 'Extraction de gaz écologique',\n",
       " 'Extraction de méthane naturel',\n",
       " 'Extraction de butane naturel',\n",
       " 'Extraction de propane naturel',\n",
       " 'Extraction de éthane naturel',\n",
       " 'récupération de gaz naturel',\n",
       " 'exploitation de gaz naturel',\n",
       " 'production de gaz naturel',\n",
       " 'capture de gaz naturel']"
      ]
     },
     "execution_count": 217,
     "metadata": {},
     "output_type": "execute_result"
    }
   ],
   "source": [
    "generate_simple_sentences(root, word_dict, key_list)"
   ]
  },
  {
   "cell_type": "markdown",
   "id": "7f121287-5e3b-4556-b002-6581a27863fb",
   "metadata": {},
   "source": [
    "### 3.3 Some ideas for further improvement\n",
    "We have seen an example of a basic generation strategy. However, there is plenty of research to be done in this direction, and there are lots of experiments one can perform. Here we just give some ideas or suggestions that one could try:\n",
    "- Prompt engineering. Try different prompt structures or variations. Try giving as examples real-world samples from the class we want to generate samples instead of using the same generic example for all classes. \n",
    "- Improve diversity of samples by asking an LLM to generate it in different styles (longer, shorter, with ortographical errors, etc).\n",
    "- Improve further the diversity by asking several distinct LLMs to produce samples.\n",
    "- Use not just the \"Includes\" section of the explanatory notes, but also the \"Also includes\" and the \"Not included\" section.\n",
    "- Exploit the hierarchical structure of the classification in the prompt, giving not only information about the class but also the higher groups.\n",
    "- Data curation: improve the quality of the generated samples by including a process of filtering (by humans or by another LLM)"
   ]
  }
 ],
 "metadata": {
  "kernelspec": {
   "display_name": "Python 3 (ipykernel)",
   "language": "python",
   "name": "python3"
  },
  "language_info": {
   "codemirror_mode": {
    "name": "ipython",
    "version": 3
   },
   "file_extension": ".py",
   "mimetype": "text/x-python",
   "name": "python",
   "nbconvert_exporter": "python",
   "pygments_lexer": "ipython3",
   "version": "3.11.7"
  }
 },
 "nbformat": 4,
 "nbformat_minor": 5
}
