{
  "cells": [
    {
      "cell_type": "markdown",
      "metadata": {},
      "source": [
        "# \n",
        "\n",
        "<a href=\"\" target=\"_blank\" rel=\"noopener\" data-original-href=\"\"><img src=\"https://custom-icon-badges.demolab.com/badge/SSP%20Cloud-Launch_this_turorial_with_GPU_supported_JupyterLab-blue?logo=jupyter&amp;logoColor=white\" alt=\"Onyxia\"></a>\n",
        "\n",
        "# Fine-Tuning a Transformers Model Guide\n",
        "\n",
        "In this tutorial, we’ll build a text classifier by fine-tuning a\n",
        "pretrained BERT model from Hugging Face’s Transformers library. We’ll\n",
        "start from a very practical point: you already have a labeled dataset\n",
        "stored in a CSV file, where each row contains a piece of text and its\n",
        "corresponding label. By the end, you’ll know how to:\n",
        "\n",
        "1.  Load a CSV dataset and convert it into the Hugging Face Datasets\n",
        "    format\n",
        "\n",
        "2.  Load a pretrained model and tokenizer from the Hugging Face Hub\n",
        "\n",
        "3.  Tokenize text using the model’s tokenizer\n",
        "\n",
        "4.  Fine-tune the model with the Transformers Trainer API\n",
        "\n",
        "5.  Save and load model in local file system\n",
        "\n",
        "6.  Evaluate the model and run predictions on test dataset with\n",
        "    transformers pipeline\n",
        "\n",
        "## Dependancy management\n",
        "\n",
        "Here we import all dependancies that we will need to use"
      ],
      "id": "5affc486-6ae6-4cfc-9212-7a56d9a4bb34"
    },
    {
      "cell_type": "code",
      "execution_count": null,
      "metadata": {},
      "outputs": [],
      "source": [
        "import numpy as np\n",
        "import pandas as pd\n",
        "import torch\n",
        "from transformers import (\n",
        "    AutoTokenizer,\n",
        "    AutoModelForSequenceClassification,\n",
        "    Trainer,\n",
        "    TrainingArguments,\n",
        "    DataCollatorWithPadding,\n",
        "    pipeline,\n",
        "    set_seed\n",
        ")\n",
        "from datasets import load_dataset\n",
        "from datasets import Dataset, ClassLabel, DatasetDict\n",
        "from sklearn.metrics import accuracy_score, f1_score, precision_score, recall_score, top_k_accuracy_score\n",
        "from sklearn.preprocessing import LabelEncoder\n",
        "import random\n"
      ],
      "id": "247af92c-1254-40be-8fb6-848450d821f5"
    },
    {
      "cell_type": "markdown",
      "metadata": {},
      "source": [
        "## Configuration variables and parameters\n",
        "\n",
        "Here, we can set some parameters with arbitrary value for importing and\n",
        "training.\n",
        "\n",
        "------------------------------------------------------------------------\n",
        "\n",
        "### **Model Settings**\n",
        "\n",
        "| Parameter | Type | Example Value | Description |\n",
        "|------------------|----------|------------------------|---------------------|\n",
        "| `model_id` | `str` | `'bert-base-multilingual-uncased'` | The Hugging Face model ID to load from the hub. Here, a multilingual BERT model is used for supporting multiple languages. |\n",
        "| `max_seq_len` | `int` | `256` | The maximum number of tokens in an input sequence. Longer sequences will be truncated. |\n",
        "\n",
        "------------------------------------------------------------------------\n",
        "\n",
        "### **Output Settings**\n",
        "\n",
        "| Parameter | Type | Example Value | Description |\n",
        "|------------------|----------|------------------------|---------------------|\n",
        "| `output_dir` | `str` | `'saved_models/bert-base-multilingual-uncased'` | Directory where the trained model, tokenizer, and training logs will be saved. |\n",
        "\n",
        "------------------------------------------------------------------------\n",
        "\n",
        "### **Training Hyperparameters**\n",
        "\n",
        "| Parameter | Type | Example Value | Description |\n",
        "|------------------|----------|------------------------|---------------------|\n",
        "| `epochs` | `int` | `4` | Number of training epochs. One epoch means going through the full dataset once. |\n",
        "| `learn_rate` | `float` | `5e-5` | Initial learning rate for the optimizer (AdamW by default). |\n",
        "| `scheduler` | `str` | `'linear'` | Learning rate scheduler type. `'linear'` gradually decreases the LR after a warmup period. |\n",
        "| `train_bs` | `int` | `16` | Batch size for training steps. |\n",
        "| `eval_bs` | `int` | `32` | Batch size for evaluation steps. |\n",
        "| `ga_steps` | `int` | `2` | Gradient accumulation steps. Allows you to simulate a larger batch size without increasing GPU memory usage. |\n",
        "| `decay` | `float` | `0.01` | Weight decay to prevent overfitting by penalizing large weights. |\n",
        "| `warmup` | `float` | `0.1` | Fraction of total training steps used for learning rate warmup. |\n",
        "\n",
        "------------------------------------------------------------------------\n",
        "\n",
        "### **Evaluation & Logging**\n",
        "\n",
        "| Parameter | Type | Example Value | Description |\n",
        "|------------------|----------|------------------------|---------------------|\n",
        "| `eval_strategy` | `str` | `'epoch'` | When to run evaluation. `'epoch'` means after each epoch. |\n",
        "| `logging_strategy` | `str` | `'epoch'` | When to log metrics. `'epoch'` means at the end of each epoch. |\n",
        "| `save_strategy` | `str` | `'no'` | When to save model checkpoints. `'no'` means only final save at the end of training. |\n",
        "| `log_level` | `str` | `'warning'` | Logging verbosity. Options include `'debug'`, `'info'`, `'warning'`, `'error'`. |\n",
        "| `report_to` | `list` | `[]` | List of reporting integrations (`\"wandb\"`, `\"tensorboard\"`, etc.). Empty means no external reporting. |\n",
        "| `# log_steps` | `int` | *(commented out)* | If enabled, logs training metrics every `log_steps` steps. |\n",
        "\n",
        "------------------------------------------------------------------------\n",
        "\n",
        "### **Precision & Model Loading**\n",
        "\n",
        "| Parameter | Type | Example Value | Description |\n",
        "|------------------|----------|------------------------|---------------------|\n",
        "| `fp16` | `bool` | `False` | Whether to use 16-bit floating-point precision (mixed precision) for faster and memory-efficient training. |\n",
        "| `load_best` | `bool` | `False` | Whether to load the best checkpoint after training based on evaluation metrics. |\n",
        "\n",
        "------------------------------------------------------------------------\n",
        "\n",
        "#### **Notes**\n",
        "\n",
        "-   **Gradient Accumulation (`ga_steps`)**: With `train_bs = 16` and\n",
        "    `ga_steps = 2`, the *effective batch size* is `16 * 2 = 32`.\n",
        "-   **Warmup (`warmup`)**: If you have 1000 total steps, `warmup=0.1`\n",
        "    means the first 100 steps will gradually ramp up the learning rate.\n",
        "-   **Mixed Precision (`fp16`)**: Useful on GPUs with Tensor Cores\n",
        "    (e.g., NVIDIA RTX series) to speed up training and reduce memory\n",
        "    usage.\n",
        "\n",
        "------------------------------------------------------------------------"
      ],
      "id": "5358701d-9280-4535-a178-8a982179ff0c"
    },
    {
      "cell_type": "code",
      "execution_count": null,
      "metadata": {},
      "outputs": [],
      "source": [
        "model_id        : str   = f'bert-base-multilingual-uncased'\n",
        "max_seq_len     : int   = 256\n",
        "\n",
        "output_dir      : str   = f'saved_models/{model_id}'\n",
        "epochs          : int   = 4\n",
        "learn_rate      : float = 5e-5\n",
        "scheduler       : str   = 'linear'\n",
        "train_bs        : int   = 16\n",
        "eval_bs         : int   = 32\n",
        "ga_steps        : int   = 2\n",
        "decay           : float = 0.01\n",
        "warmup          : float = 0.1\n",
        "eval_strategy   : str   = 'epoch'\n",
        "logging_strategy: str   = 'epoch'\n",
        "save_strategy   : str   = 'no'\n",
        "fp16            : bool  = False\n",
        "load_best       : bool  = False\n",
        "report_to       : list  = []\n",
        "log_level       : str   = 'warning'\n",
        "\n",
        "SEED            : int   = 42\n",
        "\n",
        "device = torch.device('cuda' if torch.cuda.is_available() else 'cpu')"
      ],
      "id": "bae37359-4749-441e-90c6-945d6ef32247"
    },
    {
      "cell_type": "code",
      "execution_count": null,
      "metadata": {},
      "outputs": [],
      "source": [
        "set_seed(SEED)"
      ],
      "id": "3392175d-afcd-4a35-bf93-3a2161ba485f"
    },
    {
      "cell_type": "markdown",
      "metadata": {},
      "source": [
        "# 1. Load a CSV dataset and convert it into the Hugging Face Datasets format\n",
        "\n",
        "## Convert DataFrame to Hugging Face Dataset\n",
        "\n",
        "Transforming a Pandas DataFrame into a Hugging Face `Dataset` makes it\n",
        "directly compatible with the `Trainer` API. This enables efficient\n",
        "tokenization, easy dataset splitting, and optimized batch processing.\n",
        "\n",
        "## Convert string labels to integers using LabelEncoder\n",
        "\n",
        "Machine learning models require labels as numeric IDs instead of text.\n",
        "Encoding labels ensures they are in a format the model can use.\n",
        "\n",
        "## Keep `id2label` and `label2id`\n",
        "\n",
        "These mappings connect numeric label IDs with their human-readable\n",
        "names. `id2label` converts predictions into class names for\n",
        "interpretability, while `label2id` ensures correct label-to-ID\n",
        "conversion during training. Storing them in the model configuration\n",
        "makes inference outputs understandable.\n",
        "\n",
        "## Use ClassLabel and Stratified Split\n",
        "\n",
        "`ClassLabel` preserves both the numeric ID and the original label name\n",
        "inside the dataset, improving readability and compatibility. A\n",
        "stratified split ensures that the proportion of each class is maintained\n",
        "between the training and validation sets, leading to more reliable\n",
        "evaluation results."
      ],
      "id": "cea5b77b-2f67-4002-95c1-0651bcef073d"
    },
    {
      "cell_type": "code",
      "execution_count": null,
      "metadata": {},
      "outputs": [],
      "source": [
        "df = pd.read_csv(\n",
        "    \"data/raw/nace_train.csv\", # TODO: change to augmented dataset\n",
        "    index_col=0\n",
        ")"
      ],
      "id": "49301db0-046f-42af-b2d6-426f33f206ab"
    },
    {
      "cell_type": "code",
      "execution_count": null,
      "metadata": {},
      "outputs": [],
      "source": [
        "data = DatasetDict({\n",
        "    'train': Dataset.from_pandas(df)\n",
        "})"
      ],
      "id": "44bb4c91-a93d-476b-9517-f1884d3360f3"
    },
    {
      "cell_type": "code",
      "execution_count": null,
      "metadata": {},
      "outputs": [],
      "source": [
        "data['train'][0]"
      ],
      "id": "b3891988-c059-42a1-957e-277b50f26a15"
    },
    {
      "cell_type": "code",
      "execution_count": null,
      "metadata": {},
      "outputs": [],
      "source": [
        "label_encoder = LabelEncoder()\n",
        "label_encoder.fit(data['train']['label'])\n",
        "\n",
        "# Generate mappings\n",
        "id2label = {i: str(label) for i, label in enumerate(label_encoder.classes_)}\n",
        "label2id = {label: i for i, label in id2label.items()}\n",
        "\n",
        "class_label = ClassLabel(names=label_encoder.classes_.tolist())"
      ],
      "id": "a6282b25-1e24-474a-9978-8aae7ed4ba15"
    },
    {
      "cell_type": "code",
      "execution_count": null,
      "metadata": {},
      "outputs": [],
      "source": [
        "data = data.map(lambda x: {'label': label_encoder.transform(x['label'])}, batched=True)\n",
        "# Map your dataset to use the ClassLabel feature for stratification\n",
        "data = data.cast_column('label', class_label)"
      ],
      "id": "a23e3d45-0201-4b6d-b797-a93d2f9015cc"
    },
    {
      "cell_type": "code",
      "execution_count": null,
      "metadata": {},
      "outputs": [],
      "source": [
        "data = data['train'].train_test_split(test_size=0.05, seed=SEED, stratify_by_column=\"label\")\n",
        "data[\"validation\"] = data.pop(\"test\")"
      ],
      "id": "0e812b5b-48e0-4ad2-a2d2-f45fe91f973c"
    },
    {
      "cell_type": "markdown",
      "metadata": {},
      "source": [
        "# 2. Load a pretrained model and tokenizer from the Hugging Face Hub\n",
        "\n",
        "Load the model and tokenizer from huggingface. If the model is gated or\n",
        "private, you need to set an environment variable called “HF_TOKEN” that\n",
        "contans your huggingface token.\n",
        "\n",
        "## **Loading a Pretrained Model**\n",
        "\n",
        "`AutoModelForSequenceClassification.from_pretrained(...)` downloads (or\n",
        "loads from cache) a transformer model designed for text classification.\n",
        "\n",
        "-   **`model_id`**: Identifies the model on the Hugging Face Hub (e.g.,\n",
        "    `\"bert-base-multilingual-uncased\"`).  \n",
        "-   **`num_labels`**: Sets the number of output classes for the\n",
        "    classification task.  \n",
        "-   **`id2label`** / **`label2id`**: Provide mappings between numeric\n",
        "    label IDs and human-readable labels, stored in the model\n",
        "    configuration so predictions can be interpreted later.  \n",
        "-   **`.to(device)`**: Moves the model’s weights to the chosen hardware\n",
        "    (CPU or GPU) for faster computation.\n",
        "\n",
        "**Interaction with Hugging Face Hub**  \n",
        "When called for the first time with a given `model_id`, Hugging Face\n",
        "will: 1. **Check the local cache** (default:\n",
        "`~/.cache/huggingface/transformers` or path from `HF_HOME` env\n",
        "variable). 2. If not found locally, **download the model weights and\n",
        "configuration** from the Hugging Face Hub. 3. Save them in the cache for\n",
        "future runs, avoiding repeated downloads.\n",
        "\n",
        "------------------------------------------------------------------------\n",
        "\n",
        "## **Loading the Tokenizer**\n",
        "\n",
        "`AutoTokenizer.from_pretrained(model_id)` loads the tokenizer that\n",
        "matches the chosen model.\n",
        "\n",
        "-   Retrieves **vocabulary, tokenization rules, and preprocessing\n",
        "    steps** needed to convert raw text into token IDs.\n",
        "-   Ensures **tokenization is consistent** with the model’s training\n",
        "    setup.\n",
        "-   Uses the same **cache mechanism** as the model loader: checks local\n",
        "    cache, downloads from the Hub if necessary, then stores locally.\n",
        "\n",
        "------------------------------------------------------------------------\n",
        "\n",
        "## **Remarks**\n",
        "\n",
        "-   The **model** and **tokenizer** must match — both are tied to the\n",
        "    same `model_id` to ensure correct input formatting.\n",
        "-   Using `from_pretrained` makes it easy to reuse pretrained weights\n",
        "    and tokenizers without manual file handling.\n",
        "-   The **cache system** speeds up experimentation, as once a\n",
        "    model/tokenizer is downloaded, subsequent runs use the local copy\n",
        "    instantly."
      ],
      "id": "e225465b-6112-44ab-ae1c-36ac75853907"
    },
    {
      "cell_type": "code",
      "execution_count": null,
      "metadata": {},
      "outputs": [],
      "source": [
        "model = AutoModelForSequenceClassification.from_pretrained(\n",
        "    model_id,\n",
        "    num_labels=len(id2label), \n",
        "    id2label=id2label, \n",
        "    label2id=label2id,\n",
        ").to(device)\n",
        "\n",
        "tokenizer = AutoTokenizer.from_pretrained(model_id)"
      ],
      "id": "fadea798-7cb1-40c8-a94e-72ef7a7c2166"
    },
    {
      "cell_type": "markdown",
      "metadata": {},
      "source": [
        "# 3. Tokenize text using the model’s tokenizer\n",
        "\n",
        "Now we tokenize and pad the data using the pretrained tokenizer."
      ],
      "id": "73b1389c-4523-4bdf-b2e9-f0312c9687dd"
    },
    {
      "cell_type": "code",
      "execution_count": null,
      "metadata": {},
      "outputs": [],
      "source": [
        "def tokenize(example):\n",
        "    return tokenizer(example[\"text\"], padding=True, truncation=True, max_length=max_seq_len)\n",
        "\n",
        "tokenized_data = data.map(\n",
        "    tokenize,\n",
        "    batched=True\n",
        ")\n",
        "     "
      ],
      "id": "54703c8b-2b8b-42cb-b3dc-4d6023b47dd3"
    },
    {
      "cell_type": "markdown",
      "metadata": {},
      "source": [
        "# 4. Fine-tune the model with the Transformers Trainer API\n",
        "\n",
        "## 4.1. `compute_metrics` Function\n",
        "\n",
        "This function calculates multiple evaluation metrics for a\n",
        "classification model.  \n",
        "It is designed to be passed to Hugging Face’s `Trainer`, which\n",
        "automatically calls it during evaluation.\n",
        "\n",
        "------------------------------------------------------------------------\n",
        "\n",
        "### **Inputs**\n",
        "\n",
        "-   **`eval_pred`**: A tuple `(logits, labels)` provided by the Trainer.\n",
        "    -   `logits`: Model outputs before activation (shape:\n",
        "        `[batch_size, num_classes]`).\n",
        "    -   `labels`: Ground truth class IDs.\n",
        "\n",
        "------------------------------------------------------------------------\n",
        "\n",
        "### **Steps**\n",
        "\n",
        "1.  **Unpack predictions and labels**\n",
        "\n",
        "    -   Extracts `logits` and `labels` from the tuple.\n",
        "\n",
        "2.  **Convert logits to predicted class IDs**\n",
        "\n",
        "    -   Uses `np.argmax(logits, axis=-1)` to choose the class with the\n",
        "        highest logit score for each sample.\n",
        "\n",
        "3.  **Determine the number of classes**\n",
        "\n",
        "    -   Reads `num_classes` from `logits.shape[1]`.\n",
        "    -   Creates `class_labels` as a range from `0` to `num_classes - 1`\n",
        "        to ensure all possible classes are considered in top-k metrics.\n",
        "\n",
        "4.  **Compute metrics**\n",
        "\n",
        "    -   **Accuracy**: Percentage of correct predictions.\n",
        "    -   **F1 Macro**: F1 score averaged across all classes equally.\n",
        "    -   **Precision Macro**: Average precision across all classes,\n",
        "        weighted equally.\n",
        "    -   **Recall Macro**: Average recall across all classes, weighted\n",
        "        equally.\n",
        "    -   **Top-1 Accuracy**: Accuracy when considering only the single\n",
        "        most likely prediction.\n",
        "    -   **Top-2 Accuracy**: Accuracy when considering the two most\n",
        "        likely predictions (checks if the correct class is in the top-2\n",
        "        predicted classes).\n",
        "\n",
        "    `zero_division=0` ensures no errors if a class is missing in\n",
        "    predictions or labels.\n",
        "\n",
        "5.  **Return results**\n",
        "\n",
        "    -   Returns a dictionary with all computed metrics.  \n",
        "        Hugging Face’s `Trainer` logs these values and uses them for\n",
        "        evaluation reports."
      ],
      "id": "c5ee2d2a-f0a0-41a8-810d-a92209753cf9"
    },
    {
      "cell_type": "code",
      "execution_count": null,
      "metadata": {},
      "outputs": [],
      "source": [
        "def compute_metrics(eval_pred):\n",
        "    logits, labels = eval_pred\n",
        "    predictions = np.argmax(logits, axis=-1)\n",
        "    \n",
        "    num_classes = logits.shape[1]\n",
        "    class_labels = np.arange(num_classes)  # Ensure all classes are covered\n",
        "    \n",
        "    accuracy = accuracy_score(labels, predictions)\n",
        "    f1 = f1_score(labels, predictions, average='macro', zero_division=0)\n",
        "    precision = precision_score(labels, predictions, average='macro', zero_division=0)\n",
        "    recall = recall_score(labels, predictions, average='macro', zero_division=0)\n",
        "    top_1_acc = top_k_accuracy_score(labels, logits, k=1, labels=class_labels)\n",
        "    top_2_acc = top_k_accuracy_score(labels, logits, k=2, labels=class_labels)\n",
        "\n",
        "    return {\n",
        "        'accuracy': accuracy,\n",
        "        'f1_macro': f1,\n",
        "        'precision_macro': precision,\n",
        "        'recall_macro': recall,\n",
        "        'top_1_accuracy': top_1_acc,\n",
        "        'top_2_accuracy': top_2_acc,\n",
        "    }"
      ],
      "id": "a0ae0d1c-c956-4b44-a377-11e2304b33c5"
    },
    {
      "cell_type": "markdown",
      "metadata": {},
      "source": [
        "Now, we define the training arguments and the trainer class.\n",
        "\n",
        "## 4.2. DataCollatorWithPadding\n",
        "\n",
        "The `DataCollatorWithPadding` is a utility from Hugging Face’s\n",
        "`transformers` library that handles **dynamic padding** for batches\n",
        "during training and evaluation.\n",
        "\n",
        "### How it works\n",
        "\n",
        "-   Looks at all sequences in the current batch.\n",
        "-   Finds the **longest sequence** in that batch.\n",
        "-   Pads all other sequences to match that length.\n",
        "-   Uses the tokenizer to add the correct padding tokens and attention\n",
        "    masks.\n",
        "\n",
        "### Why use it\n",
        "\n",
        "-   **Memory efficient** – avoids padding all sequences to a fixed\n",
        "    `max_seq_len`.\n",
        "-   **Faster training** – smaller average sequence length per batch\n",
        "    means fewer computations.\n",
        "-   **Cleaner code** – no need to pre-pad the dataset manually."
      ],
      "id": "15f29abd-8e04-44ab-949b-a12bd27bfb6c"
    },
    {
      "cell_type": "code",
      "execution_count": null,
      "metadata": {},
      "outputs": [],
      "source": [
        "data_collator = DataCollatorWithPadding(tokenizer=tokenizer)\n",
        "\n",
        "training_args = TrainingArguments(\n",
        "    output_dir=output_dir,\n",
        "    num_train_epochs=epochs,\n",
        "    learning_rate=learn_rate,\n",
        "    lr_scheduler_type=scheduler,\n",
        "    per_device_train_batch_size=train_bs,\n",
        "    per_device_eval_batch_size=eval_bs,\n",
        "    gradient_accumulation_steps=ga_steps,\n",
        "    warmup_ratio=warmup,\n",
        "    weight_decay=decay,\n",
        "    logging_dir='./logs',\n",
        "    # logging_steps=log_steps,\n",
        "    logging_strategy=logging_strategy,\n",
        "    eval_strategy=eval_strategy,\n",
        "    save_strategy=save_strategy,\n",
        "    fp16=fp16,\n",
        "    load_best_model_at_end=load_best,\n",
        "    report_to=report_to,\n",
        "    log_level=log_level,\n",
        ")\n",
        "\n",
        "trainer = Trainer(\n",
        "    model=model,\n",
        "    args=training_args,\n",
        "    train_dataset=tokenized_data['train'],\n",
        "    eval_dataset=tokenized_data['validation'],\n",
        "    compute_metrics=compute_metrics,\n",
        "    data_collator=data_collator\n",
        ")"
      ],
      "id": "9a0d17b9-215b-49a8-8888-b958a6f6908e"
    },
    {
      "cell_type": "markdown",
      "metadata": {},
      "source": [
        "Finally, we can start training the model."
      ],
      "id": "de10d467-ceb1-4128-946a-357087673896"
    },
    {
      "cell_type": "code",
      "execution_count": null,
      "metadata": {},
      "outputs": [],
      "source": [
        "%%time\n",
        "trainer.train()"
      ],
      "id": "8f52b50c-79cd-4b8a-8dc1-7a50912fd00e"
    },
    {
      "cell_type": "markdown",
      "metadata": {},
      "source": [
        "# 5. Save and load model in local file system"
      ],
      "id": "09c89ccd-7f21-414c-b92e-8dd71ce1149a"
    },
    {
      "cell_type": "code",
      "execution_count": null,
      "metadata": {},
      "outputs": [],
      "source": [
        "local_save_path = 'models/localsave/bert'"
      ],
      "id": "7085aff0-77ae-4317-95b8-2f9eb420a677"
    },
    {
      "cell_type": "code",
      "execution_count": null,
      "metadata": {},
      "outputs": [],
      "source": [
        "# Uncomment to save it in local path\n",
        "# model.save_pretrained(local_save_path)\n",
        "# tokenizer.save_pretrained(local_save_path)"
      ],
      "id": "faf83449-429d-4bd9-aaea-52c769bc9f00"
    },
    {
      "cell_type": "code",
      "execution_count": null,
      "metadata": {},
      "outputs": [],
      "source": [
        "model = AutoModelForSequenceClassification.from_pretrained(\n",
        "    local_save_path,\n",
        "    local_files_only=True\n",
        ")\n",
        "\n",
        "tokenizer = AutoTokenizer.from_pretrained(\n",
        "    local_save_path,\n",
        "    local_files_only=True\n",
        ")"
      ],
      "id": "b239a70c-ba15-4f98-b4ea-144913dd2286"
    },
    {
      "cell_type": "markdown",
      "metadata": {},
      "source": [
        "# 6. Evaluate the model and run predictions on test dataset with transformers pipeline\n",
        "\n",
        "Now, we can evaluate the model on our test set."
      ],
      "id": "48e9edc7-8970-4ab5-940b-4c55629e39ce"
    },
    {
      "cell_type": "code",
      "execution_count": null,
      "metadata": {},
      "outputs": [],
      "source": [
        "pipe = pipeline(\n",
        "    task='text-classification',\n",
        "    model=model, \n",
        "    tokenizer=tokenizer, \n",
        ")"
      ],
      "id": "620d3765-0a4b-4808-ba6a-2617cb26f4e8"
    },
    {
      "cell_type": "code",
      "execution_count": null,
      "metadata": {},
      "outputs": [],
      "source": [
        "df_test = pd.read_csv('data/raw/nace_test.csv', index_col=0)"
      ],
      "id": "7174fc13-31d8-4783-aed9-17a04ef987b1"
    },
    {
      "cell_type": "code",
      "execution_count": null,
      "metadata": {},
      "outputs": [],
      "source": [
        "df_test"
      ],
      "id": "efaa3a09-26a9-446a-bfd4-ab7ce7fb3513"
    },
    {
      "cell_type": "code",
      "execution_count": null,
      "metadata": {},
      "outputs": [],
      "source": [
        "y_test = df_test['label'].tolist()\n",
        "X_test = df_test['text'].tolist()"
      ],
      "id": "2b523dae-a479-4922-bc63-2bdca8efe4c7"
    },
    {
      "cell_type": "code",
      "execution_count": null,
      "metadata": {},
      "outputs": [],
      "source": [
        "%%time\n",
        "result = pipe(X_test)\n",
        "result_topk = pipe(X_test, top_k=2)"
      ],
      "id": "9090e2af-e962-47ef-8010-96bc8a223325"
    },
    {
      "cell_type": "code",
      "execution_count": null,
      "metadata": {},
      "outputs": [],
      "source": [
        "y_pred = [_['label'] for _ in result]"
      ],
      "id": "88fd305e-d28f-4772-a723-58d27a829ef3"
    },
    {
      "cell_type": "code",
      "execution_count": null,
      "metadata": {},
      "outputs": [],
      "source": [
        "accuracy = accuracy_score(y_test, y_pred)\n",
        "f1 = f1_score(y_test, y_pred, average='macro', zero_division=0)\n",
        "precision = precision_score(y_test, y_pred, average='macro', zero_division=0)\n",
        "recall = recall_score(y_test, y_pred, average='macro', zero_division=0)"
      ],
      "id": "1c70ad51-89d4-4358-8a8b-1c0abd93d8bf"
    },
    {
      "cell_type": "code",
      "execution_count": null,
      "metadata": {},
      "outputs": [],
      "source": [
        "print('Performance on test set \\n')\n",
        "print(f'Accuracy score  : {accuracy:.3f}')\n",
        "print(f'F1 score        : {f1:.3f}')\n",
        "print(f'precision score : {precision:.3f}')\n",
        "print(f'recall score    : {recall:.3f}')"
      ],
      "id": "898974a8-da20-4fef-b2e1-d6532de4b3ff"
    },
    {
      "cell_type": "code",
      "execution_count": null,
      "metadata": {},
      "outputs": [],
      "source": [
        "# Create probability matrix\n",
        "num_samples = len(result_topk)\n",
        "num_classes = len(label2id)\n",
        "y_pred_proba = np.zeros((num_samples, num_classes))\n",
        "\n",
        "for i, sample in enumerate(result_topk):\n",
        "    for pred in sample:\n",
        "        class_idx = label2id[pred['label']]\n",
        "        y_pred_proba[i][class_idx] = pred['score']"
      ],
      "id": "f7b0dbd0-7c69-4caf-b2b7-113a0975c31a"
    },
    {
      "cell_type": "code",
      "execution_count": null,
      "metadata": {},
      "outputs": [],
      "source": [
        "top1 = top_k_accuracy_score(y_test, y_pred_proba, k=1, labels=list(label2id.keys()))\n",
        "top2 = top_k_accuracy_score(y_test, y_pred_proba, k=2, labels=list(label2id.keys()))"
      ],
      "id": "bc254999-0d58-4151-a25a-017a7af0bc50"
    },
    {
      "cell_type": "code",
      "execution_count": null,
      "metadata": {},
      "outputs": [],
      "source": [
        "print(f'Top 1 accuracy  : {top1:.3f}')\n",
        "print(f'Top 2 accuracy  : {top2:.3f}')"
      ],
      "id": "81d38557-e071-4253-9886-7cb573d20dcb"
    }
  ],
  "nbformat": 4,
  "nbformat_minor": 5,
  "metadata": {
    "kernelspec": {
      "name": "python3",
      "display_name": "Python 3 (ipykernel)",
      "language": "python"
    },
    "language_info": {
      "name": "python",
      "codemirror_mode": {
        "name": "ipython",
        "version": "3"
      },
      "file_extension": ".py",
      "mimetype": "text/x-python",
      "nbconvert_exporter": "python",
      "pygments_lexer": "ipython3",
      "version": "3.13.5"
    }
  }
}