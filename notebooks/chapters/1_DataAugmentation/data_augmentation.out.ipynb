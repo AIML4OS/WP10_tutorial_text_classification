{
  "cells": [
    {
      "cell_type": "markdown",
      "metadata": {},
      "source": [
        "# LLM-based synthetic data generation\n",
        "\n",
        "The goal of this notebook is to explain how to use LLMs for synthetic\n",
        "data generation, especially in the context of statistical\n",
        "classifications. This is an important step towards training a\n",
        "classifier, since it helps to mitigate some problems with real-world\n",
        "data like scarcity, mislabelling and data gaps. Moreover, as we will\n",
        "see, this strategy allows us to significantly improve the performance of\n",
        "classifiers using few resources. An implementation of a full pipeline,\n",
        "together with documentation and a jupyter notebook tutorial, can be seen\n",
        "in https://github.com/AIML4OS/WP10_Cluster1_StatCodGen#"
      ],
      "id": "4ece1a94-6c89-4aab-affd-2d162b646b9b"
    },
    {
      "cell_type": "code",
      "execution_count": 1,
      "metadata": {},
      "outputs": [],
      "source": [
        "#!pip install openai"
      ],
      "id": "2c70db35-5006-46be-a5ca-a770ca4fe297"
    },
    {
      "cell_type": "code",
      "execution_count": 2,
      "metadata": {},
      "outputs": [],
      "source": [
        "import pandas as pd\n",
        "import openai #for LLMs calls"
      ],
      "id": "3ba9b6fb-2143-493b-a604-2c61541d0f56"
    },
    {
      "cell_type": "markdown",
      "metadata": {},
      "source": [
        "## 1. Why do we need synthetic data?\n",
        "\n",
        "Real-world data for training classifiers for statistical classifications\n",
        "have several issues: - Statistical classifications are very complex and\n",
        "have lots of nuances and caveats, so it is not always clear how to\n",
        "classify a given text. - Sometimes data is annotated by non-experts,\n",
        "which lead to mistakes. - Some texts are ambiguous, meaning that there\n",
        "is not enough information to reliably classify them in one class. - Some\n",
        "classes are hugely underrepresented in real-world data (by the structure\n",
        "of the economy), so it can be difficult to obtain enough samples for\n",
        "that data.\n",
        "\n",
        "Moreover, obtaining more real-world data is usually a very\n",
        "resource-expensive task. However, nowadays we have at our disposal the\n",
        "generative capabilities of LLMs, which produce text which is nearly\n",
        "indistinguishable from human-produced text. We can exploit this to\n",
        "generate as many real-looking samples as we want very quickly and in a\n",
        "completely automated way.\n",
        "\n",
        "Empirically it has been observed that mixing real-world data with\n",
        "good-quality synthetic data improves substantially the accuracy of the\n",
        "classification models.\n",
        "\n",
        "## 2. Reading the data\n",
        "\n",
        "### 2.1 Sample data\n",
        "\n",
        "Here we read the real-world sample data available to train the model and\n",
        "do some easy explanatory analysis to check class coverage."
      ],
      "id": "e161501e-ea45-453e-b4a0-5ebab496fa6d"
    },
    {
      "cell_type": "code",
      "execution_count": 3,
      "metadata": {
        "scrolled": true
      },
      "outputs": [
        {
          "output_type": "display_data",
          "metadata": {},
          "data": {
            "text/html": [
              "\n",
              "</div>"
            ]
          }
        }
      ],
      "source": [
        "df = pd.read_parquet(\n",
        "    \"https://minio.lab.sspcloud.fr/projet-formation/diffusion/mlops/data/firm_activity_data.parquet\"\n",
        ")\n",
        "df.head()"
      ],
      "id": "4d23303a-36ab-48cc-b6da-326ad4bc6c55"
    },
    {
      "cell_type": "code",
      "execution_count": 4,
      "metadata": {},
      "outputs": [],
      "source": [
        "nace_2digit_to_section = {\n",
        "    # Section A: Agriculture, forestry and fishing\n",
        "    \"01\": \"A\", \"02\": \"A\", \"03\": \"A\",\n",
        "\n",
        "    # Section B: Mining and quarrying\n",
        "    \"05\": \"B\", \"06\": \"B\", \"07\": \"B\", \"08\": \"B\", \"09\": \"B\",\n",
        "\n",
        "    # Section C: Manufacturing\n",
        "    \"10\": \"C\", \"11\": \"C\", \"12\": \"C\", \"13\": \"C\", \"14\": \"C\",\n",
        "    \"15\": \"C\", \"16\": \"C\", \"17\": \"C\", \"18\": \"C\", \"19\": \"C\",\n",
        "    \"20\": \"C\", \"21\": \"C\", \"22\": \"C\", \"23\": \"C\", \"24\": \"C\",\n",
        "    \"25\": \"C\", \"26\": \"C\", \"27\": \"C\", \"28\": \"C\", \"29\": \"C\",\n",
        "    \"30\": \"C\", \"31\": \"C\", \"32\": \"C\", \"33\": \"C\",\n",
        "\n",
        "    # Section D: Electricity, gas, steam and air conditioning supply\n",
        "    \"35\": \"D\",\n",
        "\n",
        "    # Section E: Water supply; sewerage, waste management and remediation\n",
        "    \"36\": \"E\", \"37\": \"E\", \"38\": \"E\", \"39\": \"E\",\n",
        "\n",
        "    # Section F: Construction\n",
        "    \"41\": \"F\", \"42\": \"F\", \"43\": \"F\",\n",
        "\n",
        "    # Section G: Wholesale and retail trade\n",
        "    \"45\": \"G\", \"46\": \"G\", \"47\": \"G\",\n",
        "\n",
        "    # Section H: Transportation and storage\n",
        "    \"49\": \"H\", \"50\": \"H\", \"51\": \"H\", \"52\": \"H\", \"53\": \"H\",\n",
        "\n",
        "    # Section I: Accommodation and food service activities\n",
        "    \"55\": \"I\", \"56\": \"I\",\n",
        "\n",
        "    # Section J: Information and communication\n",
        "    \"58\": \"J\", \"59\": \"J\", \"60\": \"J\", \"61\": \"J\", \"62\": \"J\", \"63\": \"J\",\n",
        "\n",
        "    # Section K: Financial and insurance activities\n",
        "    \"64\": \"K\", \"65\": \"K\", \"66\": \"K\",\n",
        "\n",
        "    # Section L: Real estate activities\n",
        "    \"68\": \"L\",\n",
        "\n",
        "    # Section M: Professional, scientific and technical activities\n",
        "    \"69\": \"M\", \"70\": \"M\", \"71\": \"M\", \"72\": \"M\", \"73\": \"M\", \"74\": \"M\", \"75\": \"M\",\n",
        "\n",
        "    # Section N: Administrative and support service activities\n",
        "    \"77\": \"N\", \"78\": \"N\", \"79\": \"N\", \"80\": \"N\", \"81\": \"N\", \"82\": \"N\",\n",
        "\n",
        "    # Section O: Public administration and defence\n",
        "    \"84\": \"O\",\n",
        "\n",
        "    # Section P: Education\n",
        "    \"85\": \"P\",\n",
        "\n",
        "    # Section Q: Human health and social work activities\n",
        "    \"86\": \"Q\", \"87\": \"Q\", \"88\": \"Q\",\n",
        "\n",
        "    # Section R: Arts, entertainment and recreation\n",
        "    \"90\": \"R\", \"91\": \"R\", \"92\": \"R\", \"93\": \"R\",\n",
        "\n",
        "    # Section S: Other service activities\n",
        "    \"94\": \"S\", \"95\": \"S\", \"96\": \"S\",\n",
        "\n",
        "    # Section T: Activities of households as employers\n",
        "    \"97\": \"T\", \"98\": \"T\",\n",
        "\n",
        "    # Section U: Activities of extraterritorial organizations\n",
        "    \"99\": \"U\"\n",
        "}"
      ],
      "id": "7baf73f3-603b-4d22-b33e-a68cd09ecc0c"
    },
    {
      "cell_type": "code",
      "execution_count": 5,
      "metadata": {
        "scrolled": true
      },
      "outputs": [
        {
          "output_type": "display_data",
          "metadata": {},
          "data": {
            "text/html": [
              "\n",
              "</div>"
            ]
          }
        }
      ],
      "source": [
        "df['label'] = df['nace'].apply(lambda x: x[:2]).map(nace_2digit_to_section)\n",
        "df.head()"
      ],
      "id": "138d8b85-e647-45aa-888d-35d11453562d"
    },
    {
      "cell_type": "code",
      "execution_count": 6,
      "metadata": {},
      "outputs": [
        {
          "output_type": "display_data",
          "metadata": {},
          "data": {
            "text/plain": [
              "['A',\n",
              " 'B',\n",
              " 'C',\n",
              " 'D',\n",
              " 'E',\n",
              " 'F',\n",
              " 'G',\n",
              " 'H',\n",
              " 'I',\n",
              " 'J',\n",
              " 'K',\n",
              " 'L',\n",
              " 'M',\n",
              " 'N',\n",
              " 'O',\n",
              " 'P',\n",
              " 'Q',\n",
              " 'R',\n",
              " 'S',\n",
              " 'T',\n",
              " 'U']"
            ]
          }
        }
      ],
      "source": [
        "# Add all possible labels\n",
        "all_labels = sorted(list(set(nace_2digit_to_section.values())))\n",
        "all_labels # From A to U"
      ],
      "id": "2042e80f-b35a-40d1-9576-a2bfe896cbd7"
    },
    {
      "cell_type": "code",
      "execution_count": 7,
      "metadata": {},
      "outputs": [
        {
          "output_type": "display_data",
          "metadata": {},
          "data": {
            "text/plain": [
              "label\n",
              "G    122216\n",
              "M    103344\n",
              "I     93743\n",
              "L     92525\n",
              "F     61098\n",
              "S     60125\n",
              "H     50241\n",
              "N     48516\n",
              "Q     40265\n",
              "J     32783\n",
              "C     28091\n",
              "R     26212\n",
              "K     25289\n",
              "P     25269\n",
              "A     22429\n",
              "D     12550\n",
              "E      1655\n",
              "O       161\n",
              "B       129\n",
              "U        11\n",
              "T         0\n",
              "Name: count, dtype: int64"
            ]
          }
        }
      ],
      "source": [
        "df['label'] = pd.Categorical(df['label'], categories = all_labels)\n",
        "df['label'].value_counts()"
      ],
      "id": "a35c2c50-19c3-457b-8936-cbb806506c3e"
    },
    {
      "cell_type": "code",
      "execution_count": 8,
      "metadata": {},
      "outputs": [
        {
          "output_type": "display_data",
          "metadata": {},
          "data": {
            "image/png": "[encoded data removed]"
          }
        }
      ],
      "source": [
        "df['label'].value_counts().sort_index().plot(kind='bar')"
      ],
      "id": "ab75e5b0-2f18-46f5-9066-a4af54ec04c7"
    },
    {
      "cell_type": "markdown",
      "metadata": {},
      "source": [
        "We see that some sections, particularly O, B and U have very few\n",
        "training samples. Moreover there are no samples for section T. We are\n",
        "going to generate samples for these sections. To obtain the best\n",
        "results, it is important to generate samples at the most disaggregated\n",
        "level (class) and then aggregate them to the desired level. In this way\n",
        "we can leverage all the information contained in the explanatory notes.\n",
        "\n",
        "### 2.2 Explanatory notes\n",
        "\n",
        "We will use the information in the explanatory notes of the statistical\n",
        "classification (NACE in this case) in order to provide the necessary\n",
        "information to the LLM to generate new samples. Explanatory notes\n",
        "contain a lot of high-quality information for each class of the\n",
        "statistical classifcation. Typically the information provided consists\n",
        "of: - **Code of the class** - **Title of the class** - **Includes:** a\n",
        "description of activities included in this class. - **Also includes:** a\n",
        "description of some activities which are also included in this class. -\n",
        "**Not includes:** a description of some activities which are not\n",
        "included in the class, but are related to activities which are included.\n",
        "\n",
        "In order to use the information contained in the explanatory notes in an\n",
        "easy way it is convenient to prepare them in a machine-readable format,\n",
        "following the above categories. This can be done in formats like XML or\n",
        "JSON, or simply in an excel or csv file. In this case we have prepared\n",
        "an excel file with the information contained in the NAF notes. At\n",
        "Statistics Spain we provide an excel file with this information\n",
        "(https://www.ine.es/daco/daco42/clasificaciones/cnae25/notas_explicativas_CNAE_2025.xlsx)"
      ],
      "id": "ffcf6826-6723-437e-b307-36de9cb2fa84"
    },
    {
      "cell_type": "code",
      "execution_count": 9,
      "metadata": {},
      "outputs": [
        {
          "output_type": "display_data",
          "metadata": {},
          "data": {
            "text/html": [
              "\n",
              "</div>"
            ]
          }
        }
      ],
      "source": [
        "NAFnotes = pd.read_excel(\"NAFclasses.xlsx\", keep_default_na=False)\n",
        "NAFnotes.head()"
      ],
      "id": "1bada200-0e79-4fbb-82c5-633b1ecfb263"
    },
    {
      "cell_type": "markdown",
      "metadata": {},
      "source": [
        "## 3. Generation of synthetic data\n",
        "\n",
        "Our strategy is based on the paper ZeroGen\n",
        "(https://arxiv.org/abs/2202.07922). The idea is simple but extremely\n",
        "powerful: we leverage the generative abilities of LLMs to generate\n",
        "plausible samples (similar to real-world samples) for generating\n",
        "synthetic samples from the high-quality information contained in the\n",
        "explanatory notes.\n",
        "\n",
        "We want to generate synthetic samples following two fundamental\n",
        "principles: - **Faithfulness:** the generated samples should be\n",
        "correctly coded and should be relevant to the problem at hand. -\n",
        "**Diversity:** the generated samples should display enough variety, both\n",
        "in style and content.\n",
        "\n",
        "In this section, we will first explain how to setup an LLM API to make\n",
        "calls via Python, and then show how we can implement a simple data\n",
        "generation strategy using LLMs in an automated way. In order to generate\n",
        "faithful samples for each class, we need to provide the LLM with precise\n",
        "information, which we take from the class description in the explanatory\n",
        "notes. Even though in this tutorial we will develop classifiers at the\n",
        "section level, we will generate samples at the most disaggregated level.\n",
        "In general, even if we are interested in classifying at an aggregated\n",
        "level, it is useful to generate always the samples at the most\n",
        "disaggregated level, and later aggregate, in order to take full\n",
        "advantage of the explanatory notes and to get the maximum possible\n",
        "diversity of samples.\n",
        "\n",
        "### 3.1 Setting up the LLM API\n",
        "\n",
        "First, we show how to set up an LLM API. There are essentially two ways\n",
        "to use an LLM: locally or remotely. Both have advantages and\n",
        "disadvantages: - Local LLMs: uses an LLM which is directly run in our\n",
        "computer (or the organization servers). Using an LLM locally allow us to\n",
        "have complete control over the LLM and avoids cost and security\n",
        "concerns. However, our organization needs the adequate hardware (GPUs),\n",
        "especially for the larger models. We are limited to use only open-source\n",
        "models (excluding e.g. most of OpenAI models). Setting up the LLM for\n",
        "local use involves some extra steps before we can access it via an API.\n",
        "Fortunately, nowadays there is software which makes this step very easy,\n",
        "like Ollama or vLLM. - Remote LLMs: uses an LLM which runs in remote\n",
        "servers, typically in the premises of the provider of the model (OpenAI,\n",
        "Meta, Microsoft, …). The advantages are that they are easier to set up\n",
        "and use, allow us to run very large models without having to care about\n",
        "computing resources, and allow us to run closed-source models like most\n",
        "of OpenAI models. The disadvantages are the costs (each API call costs a\n",
        "quantity of money), security concerns, and less control over the models\n",
        "(they can update a model or discontinue it).\n",
        "\n",
        "In this tutorial we will use for simplicity a remote provider, **Groq**\n",
        "(do not confuse with Grok, the family of xAI models), which has the\n",
        "advantage of allowing some free tokens and which is the provider we have\n",
        "used at Statistics Spain.\n",
        "\n",
        "Groq uses the OpenAI API to make the calls to the LLMs. Therefore, we\n",
        "must make sure we include the line: `import openai` in our code. The\n",
        "next step is to log in (or create an account) at the Groq website:\n",
        "https://groq.com/ , go to “API Keys” and click on “Create API key”.\n",
        "After introducing a name the key will be created. We must copy the key\n",
        "and put it in a python variable:"
      ],
      "id": "33592c38-b17d-4db8-88e8-52f0718553c6"
    },
    {
      "cell_type": "code",
      "execution_count": 10,
      "metadata": {},
      "outputs": [],
      "source": [
        "API_KEY='<INSERT_API_KEY_HERE>'"
      ],
      "id": "6bf52cf4-5b4f-4e8a-ad28-71574931a80a"
    },
    {
      "cell_type": "markdown",
      "metadata": {},
      "source": [
        "Now to set up the client we execute the next chunk of code:"
      ],
      "id": "464f49d4-2677-4564-b6c4-ee5d6925a61c"
    },
    {
      "cell_type": "code",
      "execution_count": 11,
      "metadata": {},
      "outputs": [],
      "source": [
        "# Preparing Groq API\n",
        "client = openai.OpenAI(\n",
        "    api_key=API_KEY,\n",
        "    base_url=\"https://api.groq.com/openai/v1\"\n",
        ")"
      ],
      "id": "cfb7c499-1427-48f5-95ba-c36f953259a3"
    },
    {
      "cell_type": "markdown",
      "metadata": {},
      "source": [
        "We now can use the models provided by Groq. To do it we use the next\n",
        "code, giving it a prompt:"
      ],
      "id": "f4e876dd-b155-4733-8e21-f5f195a921d0"
    },
    {
      "cell_type": "code",
      "execution_count": 12,
      "metadata": {},
      "outputs": [],
      "source": [
        "# Groq call\n",
        "response = client.responses.create(\n",
        "    model=\"llama-3.3-70b-versatile\", # model we want to use\n",
        "    input=\"Hi! How are you?\",        # prompt\n",
        ")"
      ],
      "id": "5b2d13f9-a3d3-494a-ac6e-bed025581af0"
    },
    {
      "cell_type": "markdown",
      "metadata": {},
      "source": [
        "It returns us a Response object, which contains all the information of\n",
        "the LLM call. Here we will only be interested in the output of the\n",
        "model, which can be accessed as follows:"
      ],
      "id": "219bdb9f-7adc-4d3f-b7f9-dd1b47c09a89"
    },
    {
      "cell_type": "code",
      "execution_count": 13,
      "metadata": {},
      "outputs": [
        {
          "output_type": "display_data",
          "metadata": {},
          "data": {
            "text/plain": [
              "\"Hello. I'm doing well, thanks for asking. I'm a large language model, so I don't have feelings or emotions like humans do, but I'm functioning properly and ready to assist you with any questions or tasks you may have. How about you? How's your day going?\""
            ]
          }
        }
      ],
      "source": [
        "response.output_text"
      ],
      "id": "39c9ac3d-0948-4da3-b706-154d439a7e3c"
    },
    {
      "cell_type": "markdown",
      "metadata": {},
      "source": [
        "### 3.2 Data generation from the explanatory notes\n",
        "\n",
        "We use the explanatory notes of the statistical classification in order\n",
        "to generate new samples. Since the explanatory notes are a high-quality\n",
        "source, we expect that there are few mislabelled samples in the\n",
        "generated samples. Indeed, empirically it has been verified that the\n",
        "synthetic data generated in this way generally contains much less\n",
        "mistakes than real-world data.\n",
        "\n",
        "Our strategy for data generation will consist in constructing a generic\n",
        "prompt, which can be easily adapted to each class, that includes the\n",
        "title of the class and the relevant information from the explanatory\n",
        "notes, and then pass this prompt to an LLM which will generate the\n",
        "desired number of samples.\n",
        "\n",
        "In order to obtain the best possible results it is important to\n",
        "construct the prompt carefully. While this is a highly empirical task,\n",
        "there are some guidelines which have proven to be universally useful\n",
        "(see, for instance, Section 3.1 of https://arxiv.org/abs/2406.15126v1).\n",
        "A well-constructed prompt should consist of the following parts: -\n",
        "**Task specification:** A description of the task the LLM must fulfill.\n",
        "A prologue to set the scene, such as “You are an expert in training data\n",
        "generation for classification models” often improves performance. -\n",
        "**Conditions:** The conditions and instructions the LLM must follow in\n",
        "the generation task. - **In-context examples:** Examples of the expected\n",
        "output. This has been observed to provide a huge performance\n",
        "improvement."
      ],
      "id": "ecb9e0f4-35aa-4265-96bf-6233df0ebe69"
    },
    {
      "cell_type": "code",
      "execution_count": 14,
      "metadata": {},
      "outputs": [],
      "source": [
        "def generate_prompt(root, text, number):\n",
        "    prompt_process_notes = (\n",
        "                \"Vous êtes un expert en génération de données d'entraînement pour les modèles de classification.\\n \"\n",
        "                 \"Votre tâche consiste à prendre une phrase racine d'une activité économique générale et à générer des phrases d'entraînement à partir d'exemples concrets inclus dans un texte.\\n \"\n",
        "                 \"Le cas échéant, essayez d'introduire le mot 'autre' ou 'autre' ainsi que l'utilisation ou la destination du produit.\\n \"\n",
        "                 \"Chaque fois qu'un objet est fabriqué, incluez le matériau à partir duquel il est fait.\\n \"\n",
        "                 \"Évitez de produire des phrases complètement différentes ou changeant de contexte et ne retournez QUE des phrases sans introduction, commentaire, explication ou phrase supplémentaire.\\n \"\n",
        "                 \"Évitez d'introduire vos résultats par des phrases telles que 'voici les phrases générées' ou similaires.\\n \"\n",
        "                 \"Écrivez chaque phrase sur une ligne séparée.\\n \"\n",
        "                 \"Écrivez tout en majuscules.\\n \"\n",
        "                 \"Ne mets pas de point à la fin de la phrase.\\n \"\n",
        "                 \"Je veux utiliser votre résultat directement, donc je veux UNIQUEMENT les phrases.\\n \"\n",
        "                 \"Voici un exemple :\\n \"\n",
        "                 \"Racine : Production de produits de boulangerie et de confiserie.\\n \"\n",
        "                 \"Texte : Cette classe comprend la fabrication de tous les produits de boulangerie tels que : pains, gâteaux, autres farines et pains destinés à l'alimentation animale.\\n \"\n",
        "                 \"Sortie :\\n \"\n",
        "                 \"FABRICATION DE MICHES DE PAIN\\n \"\n",
        "                 \"PRODUCTION DE PAIN POUR ANIMAUX\\n \"\n",
        "                 \"PRODUCTION DE GÂTEAUX\\n \"\n",
        "                 \"PRODUCTION D'AUTRES FARINES\\n \"\n",
        "                f\"Maintenant vous le faites avec la racine et le texte suivants, en générant {number} phrases:\\n \"\n",
        "                f\"Racine: {root}.\\n \"\n",
        "                f\"Texte: {text}.\"\n",
        "            )\n",
        "    return prompt_process_notes"
      ],
      "id": "28e23657-32ea-4817-971d-a53fc13da89d"
    },
    {
      "cell_type": "markdown",
      "metadata": {},
      "source": [
        "First we see how it works in one specific case, step by step. We will\n",
        "use subclass 25.11Y."
      ],
      "id": "3c32b884-a555-44c0-b840-0fde71c853f0"
    },
    {
      "cell_type": "code",
      "execution_count": 15,
      "metadata": {},
      "outputs": [
        {
          "output_type": "stream",
          "name": "stdout",
          "text": [
            "Vous êtes un expert en génération de données d'entraînement pour les modèles de classification.\n",
            " Votre tâche consiste à prendre une phrase racine d'une activité économique générale et à générer des phrases d'entraînement à partir d'exemples concrets inclus dans un texte.\n",
            " Le cas échéant, essayez d'introduire le mot 'autre' ou 'autre' ainsi que l'utilisation ou la destination du produit.\n",
            " Chaque fois qu'un objet est fabriqué, incluez le matériau à partir duquel il est fait.\n",
            " Évitez de produire des phrases complètement différentes ou changeant de contexte et ne retournez QUE des phrases sans introduction, commentaire, explication ou phrase supplémentaire.\n",
            " Évitez d'introduire vos résultats par des phrases telles que 'voici les phrases générées' ou similaires.\n",
            " Écrivez chaque phrase sur une ligne séparée.\n",
            " Écrivez tout en majuscules.\n",
            " Ne mets pas de point à la fin de la phrase.\n",
            " Je veux utiliser votre résultat directement, donc je veux UNIQUEMENT les phrases.\n",
            " Voici un exemple :\n",
            " Racine : Production de produits de boulangerie et de confiserie.\n",
            " Texte : Cette classe comprend la fabrication de tous les produits de boulangerie tels que : pains, gâteaux, autres farines et pains destinés à l'alimentation animale.\n",
            " Sortie :\n",
            " FABRICATION DE MICHES DE PAIN\n",
            " PRODUCTION DE PAIN POUR ANIMAUX\n",
            " PRODUCTION DE GÂTEAUX\n",
            " PRODUCTION D'AUTRES FARINES\n",
            " Maintenant vous le faites avec la racine et le texte suivants, en générant 10 phrases:\n",
            " Racine: Fabrication de structures métalliques et de parties de structures.\n",
            " Texte: Cette sous-classe comprend :\n",
            "                            - la fabrication de cadres métalliques ou d’ossatures pour la construction et de leurs éléments \n",
            "                            (tours, pylônes en treillis, armatures, ponts, éléments de ponts, etc.)\n",
            "                            - la fabrication de matériel d'échafaudage, de coffrage ou d'étayage\n",
            "                            - la fabrication de cadres métalliques pour équipements industriels (cadres pour hauts fourneaux, \n",
            "                            matériels de manutention, etc.)\n",
            "                            - la fabrication de constructions préfabriquées principalement en métaux :\n",
            "                            • baraques de chantier, éléments modulaires pour expositions, etc.\n",
            "                            ."
          ]
        }
      ],
      "source": [
        "prompt = generate_prompt(\"Fabrication de structures métalliques et de parties de structures\", \n",
        "                         \"\"\"Cette sous-classe comprend :\n",
        "                            - la fabrication de cadres métalliques ou d’ossatures pour la construction et de leurs éléments \n",
        "                            (tours, pylônes en treillis, armatures, ponts, éléments de ponts, etc.)\n",
        "                            - la fabrication de matériel d'échafaudage, de coffrage ou d'étayage\n",
        "                            - la fabrication de cadres métalliques pour équipements industriels (cadres pour hauts fourneaux, \n",
        "                            matériels de manutention, etc.)\n",
        "                            - la fabrication de constructions préfabriquées principalement en métaux :\n",
        "                            • baraques de chantier, éléments modulaires pour expositions, etc.\n",
        "                            \"\"\", \n",
        "                         10)\n",
        "print(prompt)"
      ],
      "id": "b1f3dcce-fdaf-48fe-b2c1-76bed3798b58"
    },
    {
      "cell_type": "code",
      "execution_count": 16,
      "metadata": {},
      "outputs": [],
      "source": [
        "# Groq call\n",
        "response = client.responses.create(\n",
        "    model=\"llama-3.3-70b-versatile\",\n",
        "    input=prompt,\n",
        ")"
      ],
      "id": "7c5729e9-de57-4368-a423-39aa973d216d"
    },
    {
      "cell_type": "code",
      "execution_count": 17,
      "metadata": {
        "scrolled": true
      },
      "outputs": [
        {
          "output_type": "display_data",
          "metadata": {},
          "data": {
            "text/plain": [
              "['FABRICATION DE CADRES MÉTALLIQUES POUR CONSTRUCTION',\n",
              " 'FABRICATION DE TOURS EN MÉTAUX POUR SUPPORT',\n",
              " \"FABRICATION DE PYLÔNES EN TREILLIS POUR DISTRIBUTION D'ÉNERGIE\",\n",
              " 'FABRICATION DE PONT EN MÉTAUX DESTINÉ À LA CIRCULATION',\n",
              " \"FABRICATION DE MATÉRIEL D'ÉCHAFAUDAGE EN MÉTAUX POUR CONSTRUCTION\",\n",
              " 'FABRICATION DE COFFRAGE EN MÉTAUX POUR BÉTONNAGE',\n",
              " 'FABRICATION DE CADRES MÉTALLIQUES POUR ÉQUIPEMENTS INDUSTRIELS',\n",
              " 'FABRICATION DE BARAQUES DE CHANTIER EN MÉTAUX POUR STOCKAGE',\n",
              " \"FABRICATION D'ÉLÉMENTS MODULAIRES EN MÉTAUX POUR EXPOSITION\",\n",
              " 'FABRICATION DE STRUCTURES PRÉFABRIQUÉES EN MÉTAUX POUR CONSTRUCTION']"
            ]
          }
        }
      ],
      "source": [
        "response.output_text.split('\\n')"
      ],
      "id": "f5a7776d-f60a-45df-9efa-46cbc9816747"
    },
    {
      "cell_type": "markdown",
      "metadata": {},
      "source": [
        "Now we can prepare, following the same steps, a general function that\n",
        "generates samples for a given class in an automatic fashion:"
      ],
      "id": "dfa7aa3c-81b4-4f84-81b2-109677c95c1d"
    },
    {
      "cell_type": "code",
      "execution_count": 18,
      "metadata": {},
      "outputs": [],
      "source": [
        "def generate_samples(NAFclass, num_samples, notes = NAFnotes):\n",
        "    class_notes = NAFnotes[NAFnotes['Code']== NAFclass].iloc[0]\n",
        "    # 1. Generate the prompt\n",
        "    if class_notes['Includes']:\n",
        "        prompt = generate_prompt(class_notes['Title'], class_notes['Includes'], num_samples)\n",
        "    else: # If includes section is empty\n",
        "        prompt = generate_prompt(class_notes['Title'], class_notes['Title'], num_samples)\n",
        "    \n",
        "    # 2. Generate samples by calling Groq API\n",
        "    response = client.responses.create(\n",
        "                model=\"llama-3.3-70b-versatile\",\n",
        "                input=prompt,\n",
        "                )\n",
        "    samples = response.output_text.split('\\n')\n",
        "    return pd.DataFrame({'text':samples, 'class':NAFclass})"
      ],
      "id": "77ea3064-9690-4f1a-a264-382d83594bbf"
    },
    {
      "cell_type": "code",
      "execution_count": 19,
      "metadata": {},
      "outputs": [
        {
          "output_type": "display_data",
          "metadata": {},
          "data": {
            "text/html": [
              "\n",
              "</div>"
            ]
          }
        }
      ],
      "source": [
        "NAFclass = '25.11Y'\n",
        "generate_samples(NAFclass, 10, notes = NAFnotes)"
      ],
      "id": "bd4455eb-e805-4a46-839d-c059ff0812ee"
    },
    {
      "cell_type": "markdown",
      "metadata": {},
      "source": [
        "Finally, we can generate a function for generating synthetic samples for\n",
        "a given section. The strategy is to generate some examples for each of\n",
        "the classes contained in the section using our previous function, and\n",
        "the put everything together."
      ],
      "id": "be91c55e-e25c-4076-acbd-a76c0a0aa681"
    },
    {
      "cell_type": "code",
      "execution_count": 20,
      "metadata": {},
      "outputs": [],
      "source": [
        "def generate_samples_section(section, num_samples, notes = NAFnotes):\n",
        "    samples_df = pd.DataFrame()\n",
        "    classes = notes[notes['Section'] == section]['Code'] # Select classes of the given section from the notes\n",
        "    num_classes = len(classes) # Number of classes in the given section\n",
        "    \n",
        "    # For each class generate samples and concatenate with the samples already generated. \n",
        "    # We generate int(num_samples/num_classes)+1 samples for each class in the section,\n",
        "    # so in total we get approx num_samples for the section.\n",
        "    for NAFclass in classes:\n",
        "        samples_df = pd.concat([samples_df, generate_samples(NAFclass, int(num_samples/num_classes)+1, notes)]) \n",
        "        \n",
        "    samples_df['label']=section # Add the section as label\n",
        "    \n",
        "    return samples_df"
      ],
      "id": "e54488f1-8500-48b2-b5a4-ba2ba2ec878b"
    },
    {
      "cell_type": "code",
      "execution_count": 21,
      "metadata": {},
      "outputs": [],
      "source": [
        "samplesT = generate_samples_section('T', 50)"
      ],
      "id": "f5535b76-77d4-4e2f-8133-4dde74e39841"
    },
    {
      "cell_type": "code",
      "execution_count": 22,
      "metadata": {},
      "outputs": [
        {
          "output_type": "display_data",
          "metadata": {},
          "data": {
            "text/html": [
              "\n",
              "</div>"
            ]
          }
        }
      ],
      "source": [
        "samplesT.head()"
      ],
      "id": "874d0630-169d-4a3e-aa03-abc719f8e0f8"
    },
    {
      "cell_type": "markdown",
      "metadata": {},
      "source": [
        "Here we will generate 200 samples for each of the four less represented\n",
        "sections (B, O, T, U). We can do it in the following way:"
      ],
      "id": "669d85be-1b04-40d1-9409-a9130cbb1dde"
    },
    {
      "cell_type": "code",
      "execution_count": 23,
      "metadata": {
        "scrolled": true
      },
      "outputs": [],
      "source": [
        "synthetic_df = pd.concat([generate_samples_section(section, 200) for section in ['O','B','U','T']])"
      ],
      "id": "494c94bc-8e18-4f34-86d1-623280e549a6"
    },
    {
      "cell_type": "code",
      "execution_count": 24,
      "metadata": {
        "scrolled": true
      },
      "outputs": [
        {
          "output_type": "display_data",
          "metadata": {},
          "data": {
            "text/html": [
              "\n",
              "<p>2462 rows × 3 columns</p>\n",
              "</div>"
            ]
          }
        }
      ],
      "source": [
        "synthetic_df"
      ],
      "id": "e7c21dc3-0e66-4b48-89d3-d690952fd1ec"
    },
    {
      "cell_type": "code",
      "execution_count": 26,
      "metadata": {},
      "outputs": [],
      "source": [
        "synthetic_df = synthetic_df.drop(columns=['class'])"
      ],
      "id": "90eae9ac-463e-4e6c-bc8c-1bfb1852d0fa"
    },
    {
      "cell_type": "code",
      "execution_count": 27,
      "metadata": {},
      "outputs": [],
      "source": [
        "synthetic_df.to_csv(\"synthetic_df.csv\", index=False)"
      ],
      "id": "3b53cca7-a61a-4460-8706-e51e4dd126d1"
    },
    {
      "cell_type": "markdown",
      "metadata": {},
      "source": [
        "### 3.3 Some ideas for further improvement\n",
        "\n",
        "We have seen an example of a basic generation strategy. However, there\n",
        "is plenty of research to be done in this direction, and there are lots\n",
        "of experiments one can perform. Here we just give some ideas or\n",
        "suggestions that one could try: - Prompt engineering. Try different\n",
        "prompt structures or variations. Try giving examples for each class\n",
        "instead of using the same generic example for all classes. - Improve\n",
        "diversity of samples by asking an LLM to generate it in different styles\n",
        "(longer, shorter, with ortographical errors, etc). - Improve further the\n",
        "diversity by asking several distinct LLMs to produce samples. - Use not\n",
        "just the “Includes” section of the explanatory notes, but also the “Also\n",
        "includes” and the “Not included” section. - Exploit the hierarchical\n",
        "structure of the classification in the prompt, giving not only\n",
        "information about the class but also the higher groups. - Data curation:\n",
        "improve the quality of the generated samples by including a process of\n",
        "filtering (by humans or by another LLM). - Evaluation of the synthetic\n",
        "dataset: both direct (measuring the quality of the data generated) and\n",
        "indirect (evaluation of the classifiers trained/fine-tuned with the\n",
        "synthetic data)."
      ],
      "id": "6d108702-89e9-4422-9cb1-c342f110d96c"
    }
  ],
  "nbformat": 4,
  "nbformat_minor": 5,
  "metadata": {
    "kernelspec": {
      "name": "conda-base-py",
      "display_name": "Python [conda env:base] *",
      "language": "python"
    },
    "language_info": {
      "name": "python",
      "codemirror_mode": {
        "name": "ipython",
        "version": "3"
      },
      "file_extension": ".py",
      "mimetype": "text/x-python",
      "nbconvert_exporter": "python",
      "pygments_lexer": "ipython3",
      "version": "3.12.7"
    }
  }
}