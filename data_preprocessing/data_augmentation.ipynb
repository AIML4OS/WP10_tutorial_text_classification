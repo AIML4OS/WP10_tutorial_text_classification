{
 "cells": [
  {
   "cell_type": "code",
   "execution_count": 1,
   "id": "fe9efd1c-11b1-490b-9962-a7ae46d8b43a",
   "metadata": {},
   "outputs": [
    {
     "name": "stdout",
     "output_type": "stream",
     "text": [
      "/home/onyxia/work/tutorial-text-classification\n"
     ]
    }
   ],
   "source": [
    "cd .."
   ]
  },
  {
   "cell_type": "code",
   "execution_count": 2,
   "id": "a22fc487-eec2-4c8c-8f62-121f172b20ea",
   "metadata": {},
   "outputs": [],
   "source": [
    "import pandas as pd"
   ]
  },
  {
   "cell_type": "code",
   "execution_count": 3,
   "id": "f753e8d3-d4b9-47c8-b96e-edd8f9f6d85e",
   "metadata": {},
   "outputs": [],
   "source": [
    "df = pd.read_csv('data/raw/nace_train.csv')"
   ]
  },
  {
   "cell_type": "code",
   "execution_count": 4,
   "id": "b2135a72-0d0c-465c-890c-6ebd9a9607cd",
   "metadata": {},
   "outputs": [
    {
     "data": {
      "text/plain": [
       "label\n",
       "G    3233\n",
       "L    2416\n",
       "M    1796\n",
       "F    1628\n",
       "N    1379\n",
       "S    1348\n",
       "I    1090\n",
       "C     971\n",
       "K     790\n",
       "R     661\n",
       "J     661\n",
       "Q     571\n",
       "H     561\n",
       "P     474\n",
       "A     240\n",
       "D     110\n",
       "E      63\n",
       "B       4\n",
       "O       4\n",
       "Name: count, dtype: int64"
      ]
     },
     "execution_count": 4,
     "metadata": {},
     "output_type": "execute_result"
    }
   ],
   "source": [
    "df['label'].value_counts()"
   ]
  },
  {
   "cell_type": "code",
   "execution_count": null,
   "id": "a29f0e66-6afa-4013-ad1d-9289c10204cf",
   "metadata": {},
   "outputs": [],
   "source": []
  }
 ],
 "metadata": {
  "kernelspec": {
   "display_name": "Python 3 (ipykernel)",
   "language": "python",
   "name": "python3"
  },
  "language_info": {
   "codemirror_mode": {
    "name": "ipython",
    "version": 3
   },
   "file_extension": ".py",
   "mimetype": "text/x-python",
   "name": "python",
   "nbconvert_exporter": "python",
   "pygments_lexer": "ipython3",
   "version": "3.13.5"
  }
 },
 "nbformat": 4,
 "nbformat_minor": 5
}
