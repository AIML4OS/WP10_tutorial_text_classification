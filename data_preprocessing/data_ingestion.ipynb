{
 "cells": [
  {
   "cell_type": "code",
   "execution_count": null,
   "id": "e56c8af3-ea76-4577-adab-9738151c8189",
   "metadata": {},
   "outputs": [],
   "source": [
    "cd .."
   ]
  },
  {
   "cell_type": "code",
   "execution_count": null,
   "id": "26b1a01f-2cf9-44fa-aeca-a1794e05df3c",
   "metadata": {},
   "outputs": [],
   "source": [
    "import pandas as pd\n",
    "\n",
    "from sklearn.model_selection import train_test_split"
   ]
  },
  {
   "cell_type": "code",
   "execution_count": null,
   "id": "af497497-91b4-4d3e-8876-03c96f8c19ad",
   "metadata": {},
   "outputs": [],
   "source": [
    "SEED = 42"
   ]
  },
  {
   "cell_type": "code",
   "execution_count": null,
   "id": "b3898f81-a8ef-4f26-9358-e50813be2c77",
   "metadata": {},
   "outputs": [],
   "source": [
    "df = pd.read_parquet(\n",
    "    \"https://minio.lab.sspcloud.fr/projet-formation/diffusion/mlops/data/firm_activity_data.parquet\"\n",
    ")"
   ]
  },
  {
   "cell_type": "code",
   "execution_count": null,
   "id": "ecc4357e-c8a1-4a6f-82bc-04cbd75c813f",
   "metadata": {},
   "outputs": [],
   "source": [
    "nace_2digit_to_section = {\n",
    "    # Section A: Agriculture, forestry and fishing\n",
    "    \"01\": \"A\", \"02\": \"A\", \"03\": \"A\",\n",
    "\n",
    "    # Section B: Mining and quarrying\n",
    "    \"05\": \"B\", \"06\": \"B\", \"07\": \"B\", \"08\": \"B\", \"09\": \"B\",\n",
    "\n",
    "    # Section C: Manufacturing\n",
    "    \"10\": \"C\", \"11\": \"C\", \"12\": \"C\", \"13\": \"C\", \"14\": \"C\",\n",
    "    \"15\": \"C\", \"16\": \"C\", \"17\": \"C\", \"18\": \"C\", \"19\": \"C\",\n",
    "    \"20\": \"C\", \"21\": \"C\", \"22\": \"C\", \"23\": \"C\", \"24\": \"C\",\n",
    "    \"25\": \"C\", \"26\": \"C\", \"27\": \"C\", \"28\": \"C\", \"29\": \"C\",\n",
    "    \"30\": \"C\", \"31\": \"C\", \"32\": \"C\", \"33\": \"C\",\n",
    "\n",
    "    # Section D: Electricity, gas, steam and air conditioning supply\n",
    "    \"35\": \"D\",\n",
    "\n",
    "    # Section E: Water supply; sewerage, waste management and remediation\n",
    "    \"36\": \"E\", \"37\": \"E\", \"38\": \"E\", \"39\": \"E\",\n",
    "\n",
    "    # Section F: Construction\n",
    "    \"41\": \"F\", \"42\": \"F\", \"43\": \"F\",\n",
    "\n",
    "    # Section G: Wholesale and retail trade\n",
    "    \"45\": \"G\", \"46\": \"G\", \"47\": \"G\",\n",
    "\n",
    "    # Section H: Transportation and storage\n",
    "    \"49\": \"H\", \"50\": \"H\", \"51\": \"H\", \"52\": \"H\", \"53\": \"H\",\n",
    "\n",
    "    # Section I: Accommodation and food service activities\n",
    "    \"55\": \"I\", \"56\": \"I\",\n",
    "\n",
    "    # Section J: Information and communication\n",
    "    \"58\": \"J\", \"59\": \"J\", \"60\": \"J\", \"61\": \"J\", \"62\": \"J\", \"63\": \"J\",\n",
    "\n",
    "    # Section K: Financial and insurance activities\n",
    "    \"64\": \"K\", \"65\": \"K\", \"66\": \"K\",\n",
    "\n",
    "    # Section L: Real estate activities\n",
    "    \"68\": \"L\",\n",
    "\n",
    "    # Section M: Professional, scientific and technical activities\n",
    "    \"69\": \"M\", \"70\": \"M\", \"71\": \"M\", \"72\": \"M\", \"73\": \"M\", \"74\": \"M\", \"75\": \"M\",\n",
    "\n",
    "    # Section N: Administrative and support service activities\n",
    "    \"77\": \"N\", \"78\": \"N\", \"79\": \"N\", \"80\": \"N\", \"81\": \"N\", \"82\": \"N\",\n",
    "\n",
    "    # Section O: Public administration and defence\n",
    "    \"84\": \"O\",\n",
    "\n",
    "    # Section P: Education\n",
    "    \"85\": \"P\",\n",
    "\n",
    "    # Section Q: Human health and social work activities\n",
    "    \"86\": \"Q\", \"87\": \"Q\", \"88\": \"Q\",\n",
    "\n",
    "    # Section R: Arts, entertainment and recreation\n",
    "    \"90\": \"R\", \"91\": \"R\", \"92\": \"R\", \"93\": \"R\",\n",
    "\n",
    "    # Section S: Other service activities\n",
    "    \"94\": \"S\", \"95\": \"S\", \"96\": \"S\",\n",
    "\n",
    "    # Section T: Activities of households as employers\n",
    "    \"97\": \"T\", \"98\": \"T\",\n",
    "\n",
    "    # Section U: Activities of extraterritorial organizations\n",
    "    \"99\": \"U\"\n",
    "}"
   ]
  },
  {
   "cell_type": "code",
   "execution_count": null,
   "id": "378501b1-799e-4c75-a080-f5c04071b71b",
   "metadata": {},
   "outputs": [],
   "source": [
    "df['label'] = df['nace'].apply(lambda x: x[:2]).map(nace_2digit_to_section)"
   ]
  },
  {
   "cell_type": "code",
   "execution_count": null,
   "id": "b403a8ea-d1dc-4848-8563-a9590fb7106f",
   "metadata": {},
   "outputs": [],
   "source": [
    "df = df.drop(columns=['nace'])"
   ]
  },
  {
   "cell_type": "code",
   "execution_count": null,
   "id": "29fcba77-c5cb-4faa-ba20-88d2f925a4ab",
   "metadata": {},
   "outputs": [],
   "source": [
    "df = df.drop_duplicates(subset=['text', 'label'])"
   ]
  },
  {
   "cell_type": "code",
   "execution_count": null,
   "id": "4bfeca8b-0ba8-46a4-947f-fded8471db47",
   "metadata": {},
   "outputs": [],
   "source": [
    "df = df.sample(n=20000, random_state=SEED)"
   ]
  },
  {
   "cell_type": "code",
   "execution_count": null,
   "id": "6091d398-9111-4d20-8b5c-4f65b1344dcb",
   "metadata": {},
   "outputs": [],
   "source": [
    "df.head()"
   ]
  },
  {
   "cell_type": "code",
   "execution_count": null,
   "id": "965ef838-c3f2-468e-bc3a-591cbc8422ae",
   "metadata": {},
   "outputs": [],
   "source": [
    "df_train, df_test = train_test_split(df, test_size=0.1, random_state=SEED)"
   ]
  },
  {
   "cell_type": "code",
   "execution_count": null,
   "id": "d2301cf7-0499-482e-9914-2d629089af28",
   "metadata": {},
   "outputs": [],
   "source": [
    "df_train.head()"
   ]
  },
  {
   "cell_type": "code",
   "execution_count": null,
   "id": "acf8c13b-544e-4969-a99f-96c97b421508",
   "metadata": {},
   "outputs": [],
   "source": [
    "df_test.head()"
   ]
  },
  {
   "cell_type": "code",
   "execution_count": null,
   "id": "ed0442fc-e461-4c27-bc32-519b16ac1396",
   "metadata": {},
   "outputs": [],
   "source": [
    "df_train.to_csv('data/raw/nace_train.csv')\n",
    "df_test.to_csv('data/raw/nace_test.csv')"
   ]
  },
  {
   "cell_type": "code",
   "execution_count": null,
   "id": "2c8e29c1-ab5e-4f05-8161-24b49d4bb57b",
   "metadata": {},
   "outputs": [],
   "source": []
  }
 ],
 "metadata": {
  "kernelspec": {
   "display_name": "Python 3 (ipykernel)",
   "language": "python",
   "name": "python3"
  },
  "language_info": {
   "codemirror_mode": {
    "name": "ipython",
    "version": 3
   },
   "file_extension": ".py",
   "mimetype": "text/x-python",
   "name": "python",
   "nbconvert_exporter": "python",
   "pygments_lexer": "ipython3",
   "version": "3.13.5"
  }
 },
 "nbformat": 4,
 "nbformat_minor": 5
}
